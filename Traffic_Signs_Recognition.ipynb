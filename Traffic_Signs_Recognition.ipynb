{
 "cells": [
  {
   "cell_type": "markdown",
   "metadata": {},
   "source": [
    "# Self-Driving Car Engineer Nanodegree\n",
    "\n",
    "## Deep Learning\n",
    "\n",
    "## Project: Build a Traffic Sign Recognition Classifier\n",
    "\n",
    "In this notebook, a template is provided for you to implement your functionality in stages which is required to successfully complete this project. If additional code is required that cannot be included in the notebook, be sure that the Python code is successfully imported and included in your submission, if necessary. Sections that begin with **'Implementation'** in the header indicate where you should begin your implementation for your project. Note that some sections of implementation are optional, and will be marked with **'Optional'** in the header.\n",
    "\n",
    "In addition to implementing code, there will be questions that you must answer which relate to the project and your implementation. Each section where you will answer a question is preceded by a **'Question'** header. Carefully read each question and provide thorough answers in the following text boxes that begin with **'Answer:'**. Your project submission will be evaluated based on your answers to each of the questions and the implementation you provide.\n",
    "\n",
    ">**Note:** Code and Markdown cells can be executed using the **Shift + Enter** keyboard shortcut. In addition, Markdown cells can be edited by typically double-clicking the cell to enter edit mode."
   ]
  },
  {
   "cell_type": "code",
   "execution_count": null,
   "metadata": {
    "collapsed": true
   },
   "outputs": [],
   "source": [
    "# Load modules\n",
    "import pickle\n",
    "import numpy as np\n",
    "import cv2\n",
    "from sklearn.model_selection import train_test_split\n",
    "from sklearn.preprocessing import LabelBinarizer\n",
    "import tensorflow as tf\n",
    "from tensorflow.contrib.layers import flatten\n",
    "import matplotlib.pyplot as plt\n",
    "import time\n",
    "from datetime import timedelta\n",
    "import math\n",
    "import csv\n",
    "import scipy.interpolate as interpolate\n",
    "\n",
    "import os\n",
    "\n",
    "\n",
    "class TrafficSignClassifier:\n",
    "    \"\"\"\n",
    "    Common class to access methods of the traffic sign classifier\n",
    "    \"\"\"\n",
    "\n",
    "    def __init__(self, folder):\n",
    "        \"\"\"\n",
    "        Initialize TrafficSignClassifier class\n",
    "        :param folder: Storage folder of training and test data\n",
    "        \"\"\"\n",
    "\n",
    "        # Parameters for the convolutional neural net with 2 dense layers\n",
    "        self.cnn_depth = 64\n",
    "        self.dense_layer_1 = 512\n",
    "        self.dense_layer_2 = 512\n",
    "\n",
    "        # Load training and test data from pickle file\n",
    "        train, test = self.load_data(folder)\n",
    "\n",
    "        # Init internal storage of training, test and validation set\n",
    "        self.training_features = train[0]\n",
    "        self.training_labels = train[1]\n",
    "        self.test_features = test[0]\n",
    "        self.test_labels = test[1]\n",
    "        self.valid_features = np.zeros_like(self.training_features)\n",
    "        self.valid_labels = np.zeros_like(self.training_labels)\n",
    "\n",
    "        # Read class labels and store them\n",
    "        self.sign_name = self.load_sign_names(\"signnames.csv\")\n",
    "\n",
    "        # What's the shape of an image?\n",
    "        self.image_shape = self.training_features.shape[1:3]\n",
    "        # How many classes are in the dataset\n",
    "        self.n_classes = len(set(self.training_labels))\n",
    "\n",
    "        # Init random generator\n",
    "        np.random.seed(2000)\n",
    "\n",
    "        # Store tensorflow placeholders for features and labels\n",
    "        self.features = tf.placeholder(tf.float32, [None, 32, 32, 3])\n",
    "        self.labels = tf.placeholder(tf.float32, [None, self.n_classes])\n",
    "\n",
    "        # Initialize tensorflow places\n",
    "        self.logits = 0\n",
    "        self.prediction = 0\n",
    "        self.loss = 0\n",
    "        self.accuracy = 0\n",
    "\n",
    "    def train(self, training_epochs=100, batch_size=50, run_optimization=True):\n",
    "        \"\"\"\n",
    "        Run all required methods to train traffic sign classifier optimization\n",
    "        :param training_epochs:\n",
    "        :param batch_size:\n",
    "        :param run_optimization:\n",
    "        :return:\n",
    "        \"\"\"\n",
    "\n",
    "        # Reshape features for 1d input\n",
    "        cnn = self.create_cnn()\n",
    "        self.logits = self.create_deep_layer(flatten(cnn))\n",
    "        self.define_metrics()\n",
    "\n",
    "        # Create an operation that initializes all variables\n",
    "        init = tf.global_variables_initializer()\n",
    "\n",
    "        # Test model with a small set of training data\n",
    "        with tf.Session() as session:\n",
    "            session.run(init)\n",
    "            session.run(self.loss, feed_dict={self.features: self.training_features[0:2],\n",
    "                                              self.labels: self.training_labels[0:2]})\n",
    "\n",
    "        # Run optimization algorithm only if requested\n",
    "        if run_optimization:\n",
    "\n",
    "            # Use Adam optimizer and minimize the loss\n",
    "            opt = tf.train.AdamOptimizer()\n",
    "            optimizer = opt.minimize(self.loss)\n",
    "\n",
    "            # Store\n",
    "            start_time = time.time()\n",
    "\n",
    "            # Initializing the variables\n",
    "            init = tf.global_variables_initializer()\n",
    "\n",
    "            # Launch the graph\n",
    "            sess = tf.Session()\n",
    "            sess.run(init)\n",
    "\n",
    "            # Determine \n",
    "            batch_count = int(math.ceil(self.training_features.shape[0] / batch_size))\n",
    "\n",
    "            # Training cycle\n",
    "            for epoch_i in range(training_epochs):\n",
    "\n",
    "                total_loss = []\n",
    "                total_accuracy = []\n",
    "\n",
    "                # Run all batches\n",
    "                for batch_i in range(batch_count):\n",
    "\n",
    "                    # Get a batch of training features and labels\n",
    "                    batch_start = batch_i * batch_size\n",
    "\n",
    "                    batch_features = self.training_features[batch_start:(batch_start + batch_size)]\n",
    "                    batch_labels = self.training_labels[batch_start:(batch_start + batch_size)]\n",
    "\n",
    "                    # Run optimizer and determine loss + accuracy for this batch\n",
    "                    _, l, a = sess.run([optimizer, self.loss, self.accuracy],\n",
    "                                       feed_dict={self.features: batch_features, self.labels: batch_labels})\n",
    "\n",
    "                    # Add loss and accuracy of this batch to list\n",
    "                    total_loss.append(l)\n",
    "                    total_accuracy.append(a)\n",
    "\n",
    "                # Calulcate mean of loss and accuracy list + Print this information\n",
    "                total_loss = np.mean(total_loss)\n",
    "                total_accuracy = np.mean(total_accuracy)\n",
    "                print(\"Epoch {}/{} with Loss of {:.6f} and Accuracy of {:.6f}\"\n",
    "                      .format(epoch_i + 1, training_epochs, total_loss, total_accuracy))\n",
    "\n",
    "                total_loss = []\n",
    "                total_accuracy = []\n",
    "\n",
    "                valid_batch_count = int(math.ceil(self.valid_features.shape[0] / batch_size))\n",
    "\n",
    "                for batch_i in range(valid_batch_count):\n",
    "                    # Get a batch of training features and labels\n",
    "                    batch_start = batch_i * batch_size\n",
    "\n",
    "                    batch_features = self.valid_features[batch_start:(batch_start + batch_size)]\n",
    "                    batch_labels = self.valid_labels[batch_start:(batch_start + batch_size)]\n",
    "                    l, a = sess.run([self.loss, self.accuracy],\n",
    "                                    feed_dict={self.features: batch_features, self.labels: batch_labels})\n",
    "\n",
    "                    total_loss.append(l)\n",
    "                    total_accuracy.append(a)\n",
    "\n",
    "                total_loss = np.mean(total_loss)\n",
    "                total_accuracy = np.mean(total_accuracy)\n",
    "\n",
    "                print(\"Validation Loss of {:.6f} and Accuracy of {:.6f}\".format(total_loss, total_accuracy))\n",
    "\n",
    "            sess.close()\n",
    "\n",
    "            # Determine time used for training and print information\n",
    "            end_time = time.time()\n",
    "            time_dif = end_time - start_time\n",
    "            print(\"Time usage: \" + str(timedelta(seconds=int(round(time_dif)))))\n",
    "\n",
    "    def visualize_training_set(self):\n",
    "        \"\"\"\n",
    "        Visualize the training set\n",
    "        \"\"\"\n",
    "        self.visualize_dataset(self.training_features, self.training_labels, self.n_classes)\n",
    "\n",
    "    def evaluate_test_set(self, batch_size=50):\n",
    "        \"\"\"\n",
    "        Run current classifier on test set\n",
    "        \"\"\"\n",
    "        total_loss = 0\n",
    "        total_accuracy = 0\n",
    "        test_batch_count = int(math.ceil(self.test_features.shape[0] / batch_size))\n",
    "\n",
    "        # Initializing the variables\n",
    "        init = tf.global_variables_initializer()\n",
    "\n",
    "        # Launch the graph\n",
    "        sess = tf.Session()\n",
    "        sess.run(init)\n",
    "\n",
    "        for batch_i in range(test_batch_count):\n",
    "            # Get a batch of training features and labels\n",
    "            batch_start = batch_i * batch_size\n",
    "\n",
    "            batch_features = self.test_features[batch_start:(batch_start + batch_size)]\n",
    "            batch_labels = self.test_labels[batch_start:(batch_start + batch_size)]\n",
    "            l, a = sess.run([self.loss, self.accuracy],\n",
    "                            feed_dict={self.features: batch_features, self.labels: batch_labels})\n",
    "\n",
    "            total_loss += l\n",
    "            total_accuracy += a\n",
    "        sess.close()\n",
    "\n",
    "        total_loss /= test_batch_count\n",
    "        total_accuracy /= test_batch_count\n",
    "\n",
    "        print(\"Test Loss of {:.6f} and Accuracy of {:.6f}\".format(total_loss, total_accuracy))\n",
    "\n",
    "    def evaluate_image(self, image_list):\n",
    "        \"\"\"\n",
    "        Determine traffic sign class for all images in given list\n",
    "        :param image_list: np array containing all images that should be evaluated\n",
    "        \"\"\"\n",
    "\n",
    "\n",
    "    @staticmethod\n",
    "    def load_data(folder):\n",
    "        \"\"\"\n",
    "        Load training and test data from given folder and unpack them\n",
    "        :param folder: Storage folder of training and test data\n",
    "        :return: training and test data\n",
    "        \"\"\"\n",
    "        training_file = os.path.join(folder, 'train.p')\n",
    "        testing_file = os.path.join(folder, 'test.p')\n",
    "\n",
    "        with open(training_file, mode='rb') as f:\n",
    "            train = pickle.load(f)\n",
    "        with open(testing_file, mode='rb') as f:\n",
    "            test = pickle.load(f)\n",
    "\n",
    "        # Unpack training and test data\n",
    "        X_train, y_train = train['features'], train['labels']\n",
    "        X_test, y_test = test['features'], test['labels']\n",
    "\n",
    "        return (X_train, y_train), (X_test, y_test)\n",
    "\n",
    "    @staticmethod\n",
    "    def load_sign_names(filename):\n",
    "        \"\"\"\n",
    "        Load sign names from csv file\n",
    "        :param filename: csv file with class id in the first and sign name in the second column\n",
    "        :return: list with sign names\n",
    "        \"\"\"\n",
    "\n",
    "        with open(filename, 'r') as f:\n",
    "            reader = csv.reader(f)\n",
    "            sign_names = list(reader)\n",
    "\n",
    "        return sign_names[1:]\n",
    "\n",
    "    @staticmethod\n",
    "    def visualize_dataset(features, labels, n_classes):\n",
    "        \"\"\"\n",
    "        Visualize the given features and labels.\n",
    "        It shows a histogram of the distribution of classes and examples of the classes.\n",
    "        :param features: List of evaluated features\n",
    "        :param labels: List of evaluated labels\n",
    "        \"\"\"\n",
    "\n",
    "        # Create a histogram of training lables\n",
    "        fig = plt.figure()\n",
    "        n, bins, patches = plt.hist(labels, n_classes)\n",
    "\n",
    "        plt.xlabel('Traffic Sign Classes')\n",
    "        plt.ylabel('occurrences')\n",
    "        plt.show()\n",
    "\n",
    "        fig = plt.figure()\n",
    "        fig.suptitle('Overview Traffic Signs', fontsize=16)\n",
    "\n",
    "        # Create an overview of trafic sign classes\n",
    "        pltRows = 5\n",
    "        pltCols = (n_classes / pltRows) + 1\n",
    "        for el in range(n_classes):\n",
    "            for i in range(0, len(labels)):\n",
    "                if (labels[i] == el):\n",
    "                    plt.subplot(pltRows, pltCols, el + 1)\n",
    "                    fig = plt.imshow(features[i, :, :, :], interpolation='nearest')\n",
    "                    fig.axes.get_xaxis().set_visible(False)\n",
    "                    fig.axes.get_yaxis().set_visible(False)\n",
    "                    break\n",
    "        plt.show()\n",
    "\n",
    "    @staticmethod\n",
    "    def pre_process_image(image):\n",
    "        \"\"\"\n",
    "        Convert image to YUV space and normalize results\n",
    "        :return: Normalized image in yuv space\n",
    "        \"\"\"\n",
    "        yuv = cv2.cvtColor(image, cv2.COLOR_BGR2YUV)\n",
    "        yuv[:, :, 0] = cv2.equalizeHist(yuv[:, :, 0])\n",
    "        # yuv = yuv[:, :, np.newaxis]\n",
    "        return (yuv / 255. * 2.) - 1.\n",
    "\n",
    "    @staticmethod\n",
    "    def shift_and_rotate_image(img, shift, rotation, scale):\n",
    "        \"\"\"\n",
    "        Shift and rotate image by given coefficients\n",
    "        :param img: Input image\n",
    "        :param shift: Tuple for shift in x and y direction\n",
    "        :param rotation: Rotation in deg\n",
    "        :param scale: Scaling that should be applied to the image\n",
    "        :return: Shifted and rotated input image\n",
    "        \"\"\"\n",
    "        rows, cols, c = img.shape\n",
    "\n",
    "        m = np.float32([[1, 0, shift[0]], [0, 1, shift[0]]])\n",
    "        shifted = cv2.warpAffine(img, m, (cols, rows))\n",
    "        m = cv2.getRotationMatrix2D((cols / 2, rows / 2), rotation, scale)\n",
    "        transformed = cv2.warpAffine(shifted, m, (cols, rows))\n",
    "\n",
    "        return transformed\n",
    "\n",
    "    @staticmethod\n",
    "    def inverse_transform_sampling(input_data, n_bins, n_samples):\n",
    "        \"\"\"\n",
    "        Analyse distribution of input data and draw samples to increase uniformity of the distribution\n",
    "        Code snippet taken from\n",
    "        http://www.nehalemlabs.net/prototype/blog/2013/12/16/how-to-do-inverse-transformation-sampling-in-scipy-and-numpy/\n",
    "        :param input_data:\n",
    "        :param n_bins:\n",
    "        :param n_samples:\n",
    "        :return:\n",
    "        \"\"\"\n",
    "        # Calc histogram of input\n",
    "        hist, bin_edges = np.histogram(input_data, bins=n_bins, density=True)\n",
    "\n",
    "        # Inverse histogram and normalize again\n",
    "        new_hist = 1 / hist\n",
    "        new_hist = new_hist / sum(new_hist)\n",
    "\n",
    "        # Calc cumulative sum\n",
    "        cum_values = np.zeros(bin_edges.shape)\n",
    "        cum_values[1:] = np.cumsum(new_hist * np.diff(bin_edges))\n",
    "\n",
    "        inv_cdf = interpolate.interp1d(cum_values, bin_edges)\n",
    "\n",
    "        # Draw n_samples random numbers and ensure range is within cumulative sum elements\n",
    "        r = np.random.rand(n_samples) * cum_values[-1]\n",
    "        return inv_cdf(r)\n",
    "\n",
    "    def basic_summary(self):\n",
    "        \"\"\"\n",
    "        Give a basic summary on training and test data\n",
    "        \"\"\"\n",
    "        print(\"Number of training examples =\", self.training_features.shape[0])\n",
    "        print(\"Number of testing examples =\", self.test_features.shape[0])\n",
    "        print(\"Image data shape =\", self.image_shape)\n",
    "        print(\"Number of classes =\", self.n_classes)\n",
    "\n",
    "    def pre_process_features(self):\n",
    "        \"\"\"\n",
    "        Preprocess features to improve performance of classifier\n",
    "        \"\"\"\n",
    "        self.training_features = np.array(\n",
    "            [self.pre_process_image(self.training_features[i]) for i in range(len(self.training_features))],\n",
    "            dtype=np.float32)\n",
    "        self.test_features = np.array(\n",
    "            [self.pre_process_image(self.test_features[i]) for i in range(len(self.test_features))],\n",
    "            dtype=np.float32)\n",
    "\n",
    "    def generate_additional_training_features(self, n_additional_features=10000):\n",
    "        \"\"\"\n",
    "        Generate additional training features to have a more uniform distribution of labels\n",
    "        \"\"\"\n",
    "\n",
    "        new_feature_dist = self.inverse_transform_sampling(self.training_labels, self.n_classes,\n",
    "                                                           n_additional_features)\n",
    "        new_feature_dist = np.round(new_feature_dist)\n",
    "        new_feature_dist = new_feature_dist.astype(int)\n",
    "\n",
    "        unique, counts = np.unique(new_feature_dist, return_counts=True)\n",
    "\n",
    "        new_labels = []\n",
    "        new_features = np.zeros([n_additional_features, self.training_features.shape[1],\n",
    "                                 self.training_features.shape[2], self.training_features.shape[3]], dtype=np.uint8)\n",
    "\n",
    "        write_pos = 0\n",
    "        for ind, number in zip(unique, counts):\n",
    "\n",
    "            # Get index of existing images of this class\n",
    "            item_index = np.where(self.training_labels == ind)[0]\n",
    "            n_items = len(item_index)\n",
    "            iterations = int(np.ceil(number / n_items))\n",
    "\n",
    "            image_basis = np.copy(item_index)\n",
    "            for it in range(iterations - 1):\n",
    "                np.random.shuffle(item_index)\n",
    "                image_basis = np.append(image_basis, item_index)\n",
    "\n",
    "            image_basis = image_basis[0:number]\n",
    "\n",
    "            for img_number in image_basis:\n",
    "                img = self.training_features[img_number]\n",
    "\n",
    "                # shift = np.random.randint(-2, 2, (2, 1))\n",
    "                shift = (0, 0)\n",
    "                rot = np.random.randint(-2, 2) * 5\n",
    "                # scale = float(np.random.randint(90, 110)) / 100.\n",
    "                scale = 1.0\n",
    "                img = self.shift_and_rotate_image(img, shift, rot, scale)\n",
    "\n",
    "                new_labels.append(ind)\n",
    "                new_features[write_pos, :, :, :] = img\n",
    "                write_pos += 1\n",
    "\n",
    "        self.training_features = np.append(self.training_features, new_features, axis=0)\n",
    "        self.training_labels = np.append(self.training_labels, new_labels)\n",
    "\n",
    "    def generate_ohe_encoding(self):\n",
    "        \"\"\"\n",
    "        Transform labels to one-hot encoding\n",
    "        \"\"\"\n",
    "        encoder = LabelBinarizer()\n",
    "        encoder.fit(self.training_labels)\n",
    "        self.training_labels = encoder.transform(self.training_labels)\n",
    "        self.valid_labels = encoder.transform(self.valid_labels)\n",
    "        self.test_labels = encoder.transform(self.test_labels)\n",
    "\n",
    "    def split_training_set(self):\n",
    "        \"\"\"\n",
    "        Split training set into traning and validation set\n",
    "        \"\"\"\n",
    "        self.training_features, self.valid_features, self.training_labels, self.valid_labels = train_test_split(\n",
    "            self.training_features,\n",
    "            self.training_labels,\n",
    "            test_size=0.15,\n",
    "            random_state=832289)\n",
    "\n",
    "    def create_deep_layer(self, dense_input):\n",
    "\n",
    "        # Store layers weight & bias\n",
    "        weights = {\n",
    "            'hidden_layer': tf.Variable(tf.random_normal([dense_input.get_shape().as_list()[-1], self.dense_layer_1])),\n",
    "            'hidden_layer2': tf.Variable(tf.random_normal([self.dense_layer_1, self.dense_layer_2])),\n",
    "            'out': tf.Variable(tf.random_normal([self.dense_layer_2, self.n_classes]))\n",
    "        }\n",
    "        biases = {\n",
    "            'hidden_layer': tf.Variable(tf.random_normal([self.dense_layer_1])),\n",
    "            'hidden_layer2': tf.Variable(tf.random_normal([self.dense_layer_2])),\n",
    "            'out': tf.Variable(tf.random_normal([self.n_classes]))\n",
    "        }\n",
    "\n",
    "        # Hidden layer with RELU activation\n",
    "        layer_1 = tf.nn.xw_plus_b(dense_input, weights['hidden_layer'], biases['hidden_layer'])\n",
    "        layer_1 = tf.nn.relu(layer_1)\n",
    "        layer_2 = tf.nn.xw_plus_b(layer_1, weights['hidden_layer2'], biases['hidden_layer2'])\n",
    "        layer_2 = tf.nn.relu(layer_2)\n",
    "\n",
    "        # Output layer with linear activation\n",
    "        logits = tf.add(tf.matmul(layer_2, weights['out']), biases['out'])\n",
    "\n",
    "        return logits\n",
    "\n",
    "    def create_cnn(self):\n",
    "        \"\"\"\n",
    "\n",
    "        :return:\n",
    "        \"\"\"\n",
    "\n",
    "        x = tf.reshape(self.features, (-1, 32, 32, 3))\n",
    "        # Pad 0s to 36x36. Centers the digit further.\n",
    "        # Add 2 rows/columns on each side for height and width dimensions.\n",
    "        x = tf.pad(x, [[0, 0], [2, 2], [2, 2], [0, 0]], mode=\"CONSTANT\")\n",
    "\n",
    "        conv1_W = tf.Variable(tf.truncated_normal(shape=(5, 5, 3, self.cnn_depth)))\n",
    "        conv1_b = tf.Variable(tf.zeros(self.cnn_depth))\n",
    "        conv1 = tf.nn.conv2d(x, conv1_W, strides=[1, 1, 1, 1], padding='VALID') + conv1_b\n",
    "        conv1 = tf.nn.relu(conv1)\n",
    "\n",
    "        return conv1\n",
    "\n",
    "    def define_metrics(self):\n",
    "\n",
    "        self.prediction = tf.nn.softmax(self.logits)\n",
    "        self.loss = tf.reduce_mean(tf.nn.softmax_cross_entropy_with_logits(self.logits, self.labels))\n",
    "\n",
    "        # Determine if the predictions are correct\n",
    "        is_correct_prediction = tf.equal(tf.argmax(self.prediction, 1), tf.argmax(self.labels, 1))\n",
    "        # Calculate the accuracy of the predictions\n",
    "        self.accuracy = tf.reduce_mean(tf.cast(is_correct_prediction, tf.float32))\n"
   ]
  },
  {
   "cell_type": "code",
   "execution_count": null,
   "metadata": {
    "collapsed": true
   },
   "outputs": [],
   "source": [
    "# Create a single instance of TrafficSignClassifier\n",
    "tsc = TrafficSignClassifier('traffic-signs-data')"
   ]
  },
  {
   "cell_type": "markdown",
   "metadata": {},
   "source": [
    "---\n",
    "\n",
    "## Step 1: Dataset Exploration\n",
    "\n",
    "Visualize the German Traffic Signs Dataset. This is open ended, some suggestions include: plotting traffic signs images, plotting the count of each sign, etc. Be creative!\n",
    "\n",
    "\n",
    "The pickled data is a dictionary with 4 key/value pairs:\n",
    "\n",
    "- features -> the images pixel values, (width, height, channels)\n",
    "- labels -> the label of the traffic sign\n",
    "- sizes -> the original width and height of the image, (width, height)\n",
    "- coords -> coordinates of a bounding box around the sign in the image, (x1, y1, x2, y2). Based the original image (not the resized version)."
   ]
  },
  {
   "cell_type": "code",
   "execution_count": null,
   "metadata": {
    "collapsed": false
   },
   "outputs": [],
   "source": [
    "### To start off let's do a basic data summary (for details please see the corresponding class methods)\n",
    "tsc.basic_summary()"
   ]
  },
  {
   "cell_type": "code",
   "execution_count": null,
   "metadata": {
    "collapsed": false
   },
   "outputs": [],
   "source": [
    "### Show distribution of training samples among the 43 classes and show examples for each class \n",
    "### (for details please see the corresponding class methods)\n",
    "tsc.visualize_training_set()"
   ]
  },
  {
   "cell_type": "markdown",
   "metadata": {},
   "source": [
    "----\n",
    "\n",
    "## Step 2: Design and Test a Model Architecture\n",
    "\n",
    "Design and implement a deep learning model that learns to recognize traffic signs. Train and test your model on the [German Traffic Sign Dataset](http://benchmark.ini.rub.de/?section=gtsrb&subsection=dataset).\n",
    "\n",
    "There are various aspects to consider when thinking about this problem:\n",
    "\n",
    "- Your model can be derived from a deep feedforward net or a deep convolutional network.\n",
    "- Play around preprocessing techniques (normalization, rgb to grayscale, etc)\n",
    "- Number of examples per label (some have more than others).\n",
    "- Generate fake data.\n",
    "\n",
    "Here is an example of a [published baseline model on this problem](http://yann.lecun.com/exdb/publis/pdf/sermanet-ijcnn-11.pdf). It's not required to be familiar with the approach used in the paper but, it's good practice to try to read papers like these."
   ]
  },
  {
   "cell_type": "markdown",
   "metadata": {},
   "source": [
    "### Implementation\n",
    "\n",
    "Use the code cell (or multiple code cells, if necessary) to implement the first step of your project. Once you have completed your implementation and are satisfied with the results, be sure to thoroughly answer the questions that follow."
   ]
  },
  {
   "cell_type": "code",
   "execution_count": null,
   "metadata": {
    "collapsed": false
   },
   "outputs": [],
   "source": []
  },
  {
   "cell_type": "markdown",
   "metadata": {},
   "source": [
    "### Question 1 \n",
    "\n",
    "_Describe the techniques used to preprocess the data._"
   ]
  },
  {
   "cell_type": "markdown",
   "metadata": {},
   "source": [
    "**Answer:**"
   ]
  },
  {
   "cell_type": "code",
   "execution_count": null,
   "metadata": {
    "collapsed": true
   },
   "outputs": [],
   "source": [
    "### Generate data additional (if you want to!)\n",
    "### and split the data into training/validation/testing sets here.\n",
    "### Feel free to use as many code cells as needed.\n",
    "\n",
    "### Preprocess the data by converting (for details please see the corresponding class methods)\n",
    "tsc.generate_additional_training_features()\n",
    "tsc.pre_process_features()\n",
    "tsc.generate_ohe_encoding()\n",
    "tsc.split_training_set()\n",
    "\n",
    "tsc.train()"
   ]
  },
  {
   "cell_type": "markdown",
   "metadata": {},
   "source": [
    "### Question 2\n",
    "\n",
    "_Describe how you set up the training, validation and testing data for your model. If you generated additional data, why?_"
   ]
  },
  {
   "cell_type": "markdown",
   "metadata": {},
   "source": [
    "**Answer:**"
   ]
  },
  {
   "cell_type": "code",
   "execution_count": null,
   "metadata": {
    "collapsed": true
   },
   "outputs": [],
   "source": [
    "### Define your architecture here.\n",
    "### Feel free to use as many code cells as needed."
   ]
  },
  {
   "cell_type": "markdown",
   "metadata": {},
   "source": [
    "### Question 3\n",
    "\n",
    "_What does your final architecture look like? (Type of model, layers, sizes, connectivity, etc.)  For reference on how to build a deep neural network using TensorFlow, see [Deep Neural Network in TensorFlow\n",
    "](https://classroom.udacity.com/nanodegrees/nd013/parts/fbf77062-5703-404e-b60c-95b78b2f3f9e/modules/6df7ae49-c61c-4bb2-a23e-6527e69209ec/lessons/b516a270-8600-4f93-a0a3-20dfeabe5da6/concepts/83a3a2a2-a9bd-4b7b-95b0-eb924ab14432) from the classroom._\n"
   ]
  },
  {
   "cell_type": "markdown",
   "metadata": {},
   "source": [
    "**Answer:**"
   ]
  },
  {
   "cell_type": "code",
   "execution_count": null,
   "metadata": {
    "collapsed": true
   },
   "outputs": [],
   "source": [
    "### Train your model here.\n",
    "### Feel free to use as many code cells as needed."
   ]
  },
  {
   "cell_type": "markdown",
   "metadata": {},
   "source": [
    "### Question 4\n",
    "\n",
    "_How did you train your model? (Type of optimizer, batch size, epochs, hyperparameters, etc.)_\n"
   ]
  },
  {
   "cell_type": "markdown",
   "metadata": {},
   "source": [
    "**Answer:**"
   ]
  },
  {
   "cell_type": "code",
   "execution_count": null,
   "metadata": {
    "collapsed": true
   },
   "outputs": [],
   "source": []
  },
  {
   "cell_type": "markdown",
   "metadata": {},
   "source": [
    "### Question 5\n",
    "\n",
    "\n",
    "_What approach did you take in coming up with a solution to this problem?_"
   ]
  },
  {
   "cell_type": "markdown",
   "metadata": {},
   "source": [
    "**Answer:**"
   ]
  },
  {
   "cell_type": "code",
   "execution_count": null,
   "metadata": {
    "collapsed": true
   },
   "outputs": [],
   "source": []
  },
  {
   "cell_type": "markdown",
   "metadata": {},
   "source": [
    "---\n",
    "\n",
    "## Step 3: Test a Model on New Images\n",
    "\n",
    "Take several pictures of traffic signs that you find on the web or around you (at least five), and run them through your classifier on your computer to produce example results. The classifier might not recognize some local signs but it could prove interesting nonetheless.\n",
    "\n",
    "You may find `signnames.csv` useful as it contains mappings from the class id (integer) to the actual sign name."
   ]
  },
  {
   "cell_type": "markdown",
   "metadata": {},
   "source": [
    "### Implementation\n",
    "\n",
    "Use the code cell (or multiple code cells, if necessary) to implement the first step of your project. Once you have completed your implementation and are satisfied with the results, be sure to thoroughly answer the questions that follow."
   ]
  },
  {
   "cell_type": "code",
   "execution_count": 2,
   "metadata": {
    "collapsed": false
   },
   "outputs": [
    {
     "data": {
      "image/png": "[encoded data removed]",
      "text/plain": [
       "<matplotlib.figure.Figure at 0x104cd2978>"
      ]
     },
     "metadata": {},
     "output_type": "display_data"
    }
   ],
   "source": [
    "### Load the images and plot them here.\n",
    "import matplotlib.image as mpimage\n",
    "import matplotlib.pyplot as plt\n",
    "\n",
    "filenames = [\"local-traffic-signs/img1.png\", \"local-traffic-signs/img2.png\", \"local-traffic-signs/img3.png\", \n",
    "             \"local-traffic-signs/img4.png\", \"local-traffic-signs/img5.png\"]\n",
    "\n",
    "# Create an overview of trafic sign classes and store them in list\n",
    "fig = plt.figure()\n",
    "fig.suptitle('Overview New Traffic Signs', fontsize=16)\n",
    "pltRows = 1\n",
    "pltCols = 5\n",
    "\n",
    "new_traffic_signs = []\n",
    "for el, filename in enumerate(filenames):\n",
    "    img = mpimage.imread(filename)\n",
    "    new_traffic_signs.append(img)\n",
    "    plt.subplot(pltRows, pltCols, el + 1)\n",
    "    fig = plt.imshow(img, interpolation='nearest')\n",
    "    fig.axes.get_xaxis().set_visible(False)\n",
    "    fig.axes.get_yaxis().set_visible(False)\n",
    "\n",
    "plt.show()"
   ]
  },
  {
   "cell_type": "markdown",
   "metadata": {},
   "source": [
    "### Question 6\n",
    "\n",
    "_Choose five candidate images of traffic signs and provide them in the report. Are there any particular qualities of the image(s) that might make classification difficult? It would be helpful to plot the images in the notebook._\n",
    "\n"
   ]
  },
  {
   "cell_type": "markdown",
   "metadata": {},
   "source": [
    "**Answer:**"
   ]
  },
  {
   "cell_type": "code",
   "execution_count": null,
   "metadata": {
    "collapsed": true
   },
   "outputs": [],
   "source": [
    "### Run the predictions here.\n",
    "### Feel free to use as many code cells as needed."
   ]
  },
  {
   "cell_type": "markdown",
   "metadata": {},
   "source": [
    "### Question 7\n",
    "\n",
    "_Is your model able to perform equally well on captured pictures or a live camera stream when compared to testing on the dataset?_\n"
   ]
  },
  {
   "cell_type": "markdown",
   "metadata": {},
   "source": [
    "**Answer:**"
   ]
  },
  {
   "cell_type": "code",
   "execution_count": null,
   "metadata": {
    "collapsed": true
   },
   "outputs": [],
   "source": [
    "### Visualize the softmax probabilities here.\n",
    "### Feel free to use as many code cells as needed."
   ]
  },
  {
   "cell_type": "markdown",
   "metadata": {},
   "source": [
    "### Question 8\n",
    "\n",
    "*Use the model's softmax probabilities to visualize the **certainty** of its predictions, [`tf.nn.top_k`](https://www.tensorflow.org/versions/r0.11/api_docs/python/nn.html#top_k) could prove helpful here. Which predictions is the model certain of? Uncertain? If the model was incorrect in its initial prediction, does the correct prediction appear in the top k? (k should be 5 at most)*\n"
   ]
  },
  {
   "cell_type": "markdown",
   "metadata": {},
   "source": [
    "**Answer:**"
   ]
  },
  {
   "cell_type": "markdown",
   "metadata": {},
   "source": [
    "### Question 9\n",
    "_If necessary, provide documentation for how an interface was built for your model to load and classify newly-acquired images._\n"
   ]
  },
  {
   "cell_type": "markdown",
   "metadata": {},
   "source": [
    "**Answer:**"
   ]
  },
  {
   "cell_type": "markdown",
   "metadata": {},
   "source": [
    "> **Note**: Once you have completed all of the code implementations and successfully answered each question above, you may finalize your work by exporting the iPython Notebook as an HTML document. You can do this by using the menu above and navigating to  \\n\",\n",
    "    \"**File -> Download as -> HTML (.html)**. Include the finished document along with this notebook as your submission."
   ]
  },
  {
   "cell_type": "code",
   "execution_count": null,
   "metadata": {
    "collapsed": true
   },
   "outputs": [],
   "source": []
  }
 ],
 "metadata": {
  "anaconda-cloud": {},
  "kernelspec": {
   "display_name": "Python 3",
   "language": "python",
   "name": "python3"
  },
  "language_info": {
   "codemirror_mode": {
    "name": "ipython",
    "version": 3
   },
   "file_extension": ".py",
   "mimetype": "text/x-python",
   "name": "python",
   "nbconvert_exporter": "python",
   "pygments_lexer": "ipython3",
   "version": "3.5.2"
  }
 },
 "nbformat": 4,
 "nbformat_minor": 1
}
