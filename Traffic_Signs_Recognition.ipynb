{
 "cells": [
  {
   "cell_type": "markdown",
   "metadata": {},
   "source": [
    "# Self-Driving Car Engineer Nanodegree\n",
    "\n",
    "## Deep Learning\n",
    "\n",
    "## Project: Build a Traffic Sign Recognition Classifier\n",
    "\n",
    "In this notebook, a template is provided for you to implement your functionality in stages which is required to successfully complete this project. If additional code is required that cannot be included in the notebook, be sure that the Python code is successfully imported and included in your submission, if necessary. Sections that begin with **'Implementation'** in the header indicate where you should begin your implementation for your project. Note that some sections of implementation are optional, and will be marked with **'Optional'** in the header.\n",
    "\n",
    "In addition to implementing code, there will be questions that you must answer which relate to the project and your implementation. Each section where you will answer a question is preceded by a **'Question'** header. Carefully read each question and provide thorough answers in the following text boxes that begin with **'Answer:'**. Your project submission will be evaluated based on your answers to each of the questions and the implementation you provide.\n",
    "\n",
    ">**Note:** Code and Markdown cells can be executed using the **Shift + Enter** keyboard shortcut. In addition, Markdown cells can be edited by typically double-clicking the cell to enter edit mode."
   ]
  },
  {
   "cell_type": "code",
   "execution_count": 1,
   "metadata": {
    "collapsed": true
   },
   "outputs": [],
   "source": [
    "# Load modules\n",
    "import pickle\n",
    "import numpy as np\n",
    "import cv2\n",
    "from sklearn.model_selection import train_test_split\n",
    "from sklearn.preprocessing import LabelBinarizer\n",
    "import tensorflow as tf\n",
    "from tensorflow.contrib.layers import flatten\n",
    "from tqdm import tqdm\n",
    "import matplotlib.pyplot as plt\n",
    "import time\n",
    "from datetime import timedelta\n",
    "import math\n",
    "import csv\n",
    "import scipy.interpolate as interpolate\n",
    "\n",
    "import os\n",
    "\n",
    "class TrafficSignClassifier:\n",
    "    \"\"\"\n",
    "\n",
    "    \"\"\"\n",
    "\n",
    "    def __init__(self, folder):\n",
    "        \"\"\"\n",
    "        Initialize TrafficSignClassifier class\n",
    "        :param folder: Storage folder of training and test data\n",
    "        \"\"\"\n",
    "\n",
    "        # Load training and test data from pickle file\n",
    "        train, test = self.load_data(folder)\n",
    "\n",
    "        # Read class labels\n",
    "        self.sign_name = self.load_sign_names(\"signnames.csv\")\n",
    "\n",
    "        self.training_features = train[0]\n",
    "        self.training_labels = train[1]\n",
    "        self.test_features = test[0]\n",
    "        self.test_labels = test[1]\n",
    "        self.valid_features = np.zeros_like(self.training_features)\n",
    "        self.valid_labels = np.zeros_like(self.training_labels)\n",
    "\n",
    "        self.logits = 0\n",
    "        self.prediction = 0\n",
    "        self.loss = 0\n",
    "        self.accuracy = 0\n",
    "\n",
    "        # What's the shape of an image?\n",
    "        self.image_shape = self.training_features.shape[1:3]\n",
    "        # How many classes are in the dataset\n",
    "        self.n_classes = len(set(self.training_labels))\n",
    "\n",
    "        self.cnn_depth = 64\n",
    "        self.dense_layer_1 = 512\n",
    "        self.dense_layer_2 = 512\n",
    "\n",
    "        self.n_additional_features = 10000\n",
    "\n",
    "        # Init random generator\n",
    "        np.random.seed(2000)\n",
    "\n",
    "    def train(self):\n",
    "        \"\"\"\n",
    "        Run all required methods to train traffic sign classifier\n",
    "        \"\"\"\n",
    "\n",
    "        # Store placeholders for features and labels\n",
    "        features = tf.placeholder(tf.float32, [None, 32, 32, 3])\n",
    "        labels = tf.placeholder(tf.float32, [None, self.n_classes])\n",
    "\n",
    "        # Reshape features for 1d input\n",
    "        cnn = self.create_cnn(features)\n",
    "        self.logits = self.create_deep_layer(flatten(cnn))\n",
    "        self.define_metrics(labels)\n",
    "\n",
    "        # Create an operation that initializes all variables\n",
    "        init = tf.global_variables_initializer()\n",
    "\n",
    "        # Test Cases\n",
    "        with tf.Session() as session:\n",
    "            session.run(init)\n",
    "            #session.run(self.loss, feed_dict={features: self.training_features, labels: self.training_labels})\n",
    "\n",
    "        # Parameters\n",
    "        training_epochs = 100\n",
    "        batch_size = 50\n",
    "        learning_rate = 0.001\n",
    "\n",
    "        opt = tf.train.AdamOptimizer()\n",
    "        optimizer = opt.minimize(self.loss)\n",
    "\n",
    "        start_time = time.time()\n",
    "\n",
    "        # Initializing the variables\n",
    "        init = tf.global_variables_initializer()\n",
    "\n",
    "        # Launch the graph\n",
    "        sess = tf.Session()\n",
    "        sess.run(init)\n",
    "\n",
    "        batch_count = int(math.ceil( self.training_features.shape[0] / batch_size))\n",
    "        #batch_count = 100\n",
    "\n",
    "        # Training cycle\n",
    "        for epoch_i in range(training_epochs):\n",
    "\n",
    "            totalLoss = 0\n",
    "            totalAccuracy = 0\n",
    "\n",
    "            # The training cycle\n",
    "            for batch_i in range(batch_count):\n",
    "\n",
    "                # Get a batch of training features and labels\n",
    "                batch_start = batch_i * batch_size\n",
    "\n",
    "                batch_features = self.training_features[batch_start:(batch_start + batch_size)]\n",
    "                batch_labels = self.training_labels[batch_start:(batch_start + batch_size)]\n",
    "                #print(batch_features.shape)\n",
    "                # Run optimizer and get loss\n",
    "                _, l, a = sess.run([optimizer, self.loss, self.accuracy], feed_dict={features: batch_features, labels: batch_labels})\n",
    "\n",
    "                totalLoss += l\n",
    "                totalAccuracy += a\n",
    "\n",
    "            totalLoss /= batch_count\n",
    "            totalAccuracy /= batch_count\n",
    "            print(\"Epoch {}/{} with Loss of {:.6f} and Accuracy of {:.6f}\".format(epoch_i + 1, training_epochs, totalLoss, totalAccuracy))\n",
    "\n",
    "            totalLoss = 0\n",
    "            totalAccuracy = 0\n",
    "            \n",
    "            valid_batch_count = int(math.ceil( self.valid_features.shape[0] / batch_size))\n",
    "            for batch_i in range(valid_batch_count):\n",
    "                # Get a batch of training features and labels\n",
    "                batch_start = batch_i * batch_size\n",
    "\n",
    "                batch_features = self.valid_features[batch_start:(batch_start + batch_size)]\n",
    "                batch_labels = self.valid_labels[batch_start:(batch_start + batch_size)]\n",
    "                l, a = sess.run([self.loss, self.accuracy],\n",
    "                                   feed_dict={features: batch_features, labels: batch_labels})\n",
    "                \n",
    "                totalLoss += l\n",
    "                totalAccuracy += a\n",
    "                \n",
    "            totalLoss /= valid_batch_count\n",
    "            totalAccuracy /= valid_batch_count\n",
    "            \n",
    "            print(\"Validation Loss of {:.6f} and Accuracy of {:.6f}\".format(totalLoss, totalAccuracy))\n",
    "        sess.close()\n",
    "\n",
    "        end_time = time.time()\n",
    "        time_dif = end_time - start_time\n",
    "        \n",
    "        totalLoss = 0\n",
    "        totalAccuracy = 0\n",
    "\n",
    "        test_batch_count = int(math.ceil( self.test_features.shape[0] / batch_size))\n",
    "        for batch_i in range(test_batch_count):\n",
    "            # Get a batch of training features and labels\n",
    "            batch_start = batch_i * batch_size\n",
    "\n",
    "            batch_features = self.test_features[batch_start:(batch_start + batch_size)]\n",
    "            batch_labels = self.test_labels[batch_start:(batch_start + batch_size)]\n",
    "            l, a = sess.run([self.loss, self.accuracy],\n",
    "                               feed_dict={features: batch_features, labels: batch_labels})\n",
    "\n",
    "            totalLoss += l\n",
    "            totalAccuracy += a\n",
    "\n",
    "        totalLoss /= valid_batch_count\n",
    "        totalAccuracy /= valid_batch_count\n",
    "        \n",
    "        print(\"Test Loss of {:.6f} and Accuracy of {:.6f}\".format(totalLoss, totalAccuracy))\n",
    "\n",
    "        print(\"Time usage: \" + str(timedelta(seconds=int(round(time_dif)))))\n",
    "\n",
    "    def visualize_training_set(self):\n",
    "        \"\"\"\n",
    "        Visualize the training set\n",
    "        \"\"\"\n",
    "        self.visualize_dataset(self.training_features, self.training_labels, self.n_classes)\n",
    "\n",
    "    def save_all_training_data(self):\n",
    "\n",
    "        folder = \"temp/\"\n",
    "        ind = 0\n",
    "        for label, el in zip(self.training_labels, self.training_features):\n",
    "            filename = folder + \"img_{0:05d}.png\".format(ind)\n",
    "            colorImg = cv2.cvtColor(el, cv2.COLOR_BGR2RGB)\n",
    "\n",
    "            #cv2.imwrite(filename, colorImg)\n",
    "            ind += 1\n",
    "\n",
    "            return\n",
    "\n",
    "    @staticmethod\n",
    "    def load_data(folder):\n",
    "        \"\"\"\n",
    "        Load training and test data from given folder and unpack them\n",
    "        :param folder: Storage folder of training and test data\n",
    "        :return: training and test data\n",
    "        \"\"\"\n",
    "        training_file = os.path.join(folder, 'train.p')\n",
    "        testing_file = os.path.join(folder, 'test.p')\n",
    "\n",
    "        with open(training_file, mode='rb') as f:\n",
    "            train = pickle.load(f)\n",
    "        with open(testing_file, mode='rb') as f:\n",
    "            test = pickle.load(f)\n",
    "\n",
    "        # Unpack training and test data\n",
    "        X_train, y_train = train['features'], train['labels']\n",
    "        X_test, y_test = test['features'], test['labels']\n",
    "\n",
    "        return (X_train, y_train), (X_test, y_test)\n",
    "\n",
    "    @staticmethod\n",
    "    def load_sign_names(filename):\n",
    "        \"\"\"\n",
    "        Load sign names from csv file\n",
    "        :param filename: csv file with class id in the first and sign name in the second column\n",
    "        :return: list with sign names\n",
    "        \"\"\"\n",
    "\n",
    "        with open(filename, 'r') as f:\n",
    "            reader = csv.reader(f)\n",
    "            sign_names = list(reader)\n",
    "\n",
    "        return sign_names[1:]\n",
    "\n",
    "    @staticmethod\n",
    "    def visualize_dataset(features, labels, n_classes):\n",
    "        \"\"\"\n",
    "        Visualize the given features and labels.\n",
    "        It shows a histogram of the distribution of classes and examples of the classes.\n",
    "        :param features: List of evaluated features\n",
    "        :param labels: List of evaluated labels\n",
    "        \"\"\"\n",
    "\n",
    "        # Create a histogram of training lables\n",
    "        fig = plt.figure()\n",
    "        n, bins, patches = plt.hist(labels, n_classes)\n",
    "\n",
    "        plt.xlabel('Traffic Sign Classes')\n",
    "        plt.ylabel('occurrences')\n",
    "        plt.show()\n",
    "\n",
    "        fig = plt.figure()\n",
    "        fig.suptitle('Overview Traffic Signs', fontsize=16)\n",
    "\n",
    "        # Create an overview of trafic sign classes\n",
    "        pltRows = 5\n",
    "        pltCols = (n_classes / pltRows) + 1\n",
    "        for el in range(n_classes):\n",
    "            for i in range(0, len(labels)):\n",
    "                if (labels[i] == el):\n",
    "                    plt.subplot(pltRows, pltCols, el + 1)\n",
    "                    fig = plt.imshow(features[i, :, :, :], interpolation='nearest')\n",
    "                    fig.axes.get_xaxis().set_visible(False)\n",
    "                    fig.axes.get_yaxis().set_visible(False)\n",
    "                    break\n",
    "        plt.show()\n",
    "\n",
    "    @staticmethod\n",
    "    def pre_process_image(image):\n",
    "        \"\"\"\n",
    "        Convert image to YUV space and normalize results\n",
    "        :return: Normalized image in yuv space\n",
    "        \"\"\"\n",
    "        yuv = cv2.cvtColor(image, cv2.COLOR_BGR2YUV)\n",
    "        yuv[:, :, 0] = cv2.equalizeHist(yuv[:, :, 0])\n",
    "        #yuv = yuv[:, :, np.newaxis]\n",
    "        return (yuv / 255. * 2.) - 1.\n",
    "\n",
    "    @staticmethod\n",
    "    def shift_and_rotate_image(img, shift, rotation, scale):\n",
    "        \"\"\"\n",
    "\n",
    "        :param img: Input image\n",
    "        :param shift: Tuple for shift in x and y direction\n",
    "        :param rotation: Rotation in deg\n",
    "        :param scale: Scaling that should be applied to the image\n",
    "        :return: Shifted and rotated input image\n",
    "        \"\"\"\n",
    "        rows, cols, c = img.shape\n",
    "\n",
    "        M = np.float32([[1, 0, shift[0]], [0, 1, shift[0]]])\n",
    "        shifted = cv2.warpAffine(img, M, (cols, rows))\n",
    "        M = cv2.getRotationMatrix2D((cols / 2, rows / 2), rotation, scale)\n",
    "        transformed = cv2.warpAffine(shifted, M, (cols, rows))\n",
    "\n",
    "        return transformed\n",
    "\n",
    "    @staticmethod\n",
    "    def inverse_transform_sampling(input_data, n_bins, n_samples):\n",
    "        \"\"\"\n",
    "        Code snippet taken from\n",
    "        http://www.nehalemlabs.net/prototype/blog/2013/12/16/how-to-do-inverse-transformation-sampling-in-scipy-and-numpy/\n",
    "        :param input_data:\n",
    "        :param n_bins:\n",
    "        :param n_samples:\n",
    "        :return:\n",
    "        \"\"\"\n",
    "        # Calc histogram of input\n",
    "        hist, bin_edges = np.histogram(input_data, bins=n_bins, density=True)\n",
    "\n",
    "        # Inverse histogram and normalize again\n",
    "        new_hist = 1 / hist\n",
    "        new_hist = new_hist / sum(new_hist)\n",
    "\n",
    "        # Calc cumulative sum\n",
    "        cum_values = np.zeros(bin_edges.shape)\n",
    "        cum_values[1:] = np.cumsum(new_hist * np.diff(bin_edges))\n",
    "\n",
    "        inv_cdf = interpolate.interp1d(cum_values, bin_edges)\n",
    "\n",
    "        # Draw n_samples random numbers and ensure range is within cumulative sum elements\n",
    "        r = np.random.rand(n_samples) * cum_values[-1]\n",
    "        return inv_cdf(r)\n",
    "\n",
    "    def basic_summary(self):\n",
    "        \"\"\"\n",
    "        Give a basic summary on training and test data\n",
    "        \"\"\"\n",
    "        print(\"Number of training examples =\", self.get_number_training_samples())\n",
    "        print(\"Number of testing examples =\", self.get_number_test_samples())\n",
    "        print(\"Image data shape =\", self.image_shape)\n",
    "        print(\"Number of classes =\", self.n_classes)\n",
    "\n",
    "    def pre_process_features(self):\n",
    "        \"\"\"\n",
    "        Preprocess features to improve performance of classifier\n",
    "        \"\"\"\n",
    "        self.training_features = np.array([self.pre_process_image(self.training_features[i]) for i in range(len(self.training_features))],\n",
    "                                  dtype=np.float32)\n",
    "        self.test_features = np.array([self.pre_process_image(self.test_features[i]) for i in range(len(self.test_features))],\n",
    "                                 dtype=np.float32)\n",
    "\n",
    "    def generate_additional_training_features(self):\n",
    "        \"\"\"\n",
    "        Generate additional training features to have a more uniform distribution of labels\n",
    "        \"\"\"\n",
    "\n",
    "        new_feature_dist = self.inverse_transform_sampling(self.training_labels, self.n_classes, self.n_additional_features)\n",
    "        new_feature_dist = np.round(new_feature_dist)\n",
    "        new_feature_dist = new_feature_dist.astype(int)\n",
    "\n",
    "        unique, counts = np.unique(new_feature_dist, return_counts=True)\n",
    "\n",
    "        new_labels = []\n",
    "        new_features = np.zeros([self.n_additional_features, self.training_features.shape[1],\n",
    "                                 self.training_features.shape[2], self.training_features.shape[3]], dtype=np.uint8)\n",
    "\n",
    "        write_pos = 0\n",
    "        for ind, number in zip(unique, counts):\n",
    "\n",
    "            # Get index of existing images of this class\n",
    "            item_index = np.where(self.training_labels == ind)[0]\n",
    "            n_items = len(item_index)\n",
    "            iterations = int(np.ceil(number / n_items))\n",
    "\n",
    "            image_basis = np.copy(item_index)\n",
    "            for it in range(iterations-1):\n",
    "                np.random.shuffle(item_index)\n",
    "                image_basis = np.append(image_basis, item_index)\n",
    "\n",
    "            image_basis = image_basis[0:number]\n",
    "\n",
    "            for img_number in image_basis:\n",
    "                img = self.training_features[img_number]\n",
    "\n",
    "                #shift = np.random.randint(-2, 2, (2, 1))\n",
    "                shift = (0,0)\n",
    "                rot = np.random.randint(-2, 2) * 5\n",
    "                #scale = float(np.random.randint(90, 110)) / 100.\n",
    "                scale = 1.0\n",
    "                img = self.shift_and_rotate_image(img, shift, rot, scale)\n",
    "\n",
    "                new_labels.append(ind)\n",
    "                new_features[write_pos, :, :, :] = img\n",
    "                write_pos += 1\n",
    "\n",
    "        self.training_features = np.append(self.training_features, new_features, axis=0)\n",
    "        self.training_labels = np.append(self.training_labels, new_labels)\n",
    "\n",
    "    def generate_ohe_encoding(self):\n",
    "        \"\"\"\n",
    "        Transform labels to one-hot encoding\n",
    "        \"\"\"\n",
    "        encoder = LabelBinarizer()\n",
    "        encoder.fit(self.training_labels)\n",
    "        self.training_labels = encoder.transform(self.training_labels)\n",
    "        self.test_labels = encoder.transform(self.test_labels)\n",
    "\n",
    "    def split_training_set(self):\n",
    "        \"\"\"\n",
    "        Split training set into traning and validation set\n",
    "        \"\"\"\n",
    "        self.training_features, self.valid_features, self.training_labels, self.valid_labels = train_test_split(\n",
    "            self.training_features,\n",
    "            self.training_labels,\n",
    "            test_size=0.15,\n",
    "            random_state=832289)\n",
    "\n",
    "    def create_deep_layer(self, dense_input):\n",
    "\n",
    "        # Store layers weight & bias\n",
    "        weights = {\n",
    "            'hidden_layer': tf.Variable(tf.random_normal([dense_input.get_shape().as_list()[-1], self.dense_layer_1])),\n",
    "            'hidden_layer2': tf.Variable(tf.random_normal([self.dense_layer_1, self.dense_layer_2])),\n",
    "            'out': tf.Variable(tf.random_normal([self.dense_layer_2, self.n_classes]))\n",
    "        }\n",
    "        biases = {\n",
    "            'hidden_layer': tf.Variable(tf.random_normal([self.dense_layer_1])),\n",
    "            'hidden_layer2': tf.Variable(tf.random_normal([self.dense_layer_2])),\n",
    "            'out': tf.Variable(tf.random_normal([self.n_classes]))\n",
    "        }\n",
    "\n",
    "        # Hidden layer with RELU activation\n",
    "        layer_1 = tf.nn.xw_plus_b(dense_input, weights['hidden_layer'], biases['hidden_layer'])\n",
    "        layer_1 = tf.nn.relu(layer_1)\n",
    "        layer_2 = tf.nn.xw_plus_b(layer_1, weights['hidden_layer2'], biases['hidden_layer2'])\n",
    "        layer_2 = tf.nn.relu(layer_2)\n",
    "\n",
    "        # Output layer with linear activation\n",
    "        logits = tf.add(tf.matmul(layer_2, weights['out']), biases['out'])\n",
    "\n",
    "        return logits\n",
    "\n",
    "    def create_cnn(self, features):\n",
    "        \"\"\"\n",
    "\n",
    "        :return:\n",
    "        \"\"\"\n",
    "\n",
    "        x = tf.reshape(features, (-1, 32, 32, 3))\n",
    "        # Pad 0s to 36x36. Centers the digit further.\n",
    "        # Add 2 rows/columns on each side for height and width dimensions.\n",
    "        x = tf.pad(x, [[0, 0], [2, 2], [2, 2], [0, 0]], mode=\"CONSTANT\")\n",
    "\n",
    "        conv1_W = tf.Variable(tf.truncated_normal(shape=(5, 5, 3, self.cnn_depth)))\n",
    "        conv1_b = tf.Variable(tf.zeros(self.cnn_depth))\n",
    "        conv1 = tf.nn.conv2d(x, conv1_W, strides=[1, 1, 1, 1], padding='VALID') + conv1_b\n",
    "        conv1 = tf.nn.relu(conv1)\n",
    "\n",
    "        return conv1\n",
    "\n",
    "    def define_metrics(self, labels):\n",
    "\n",
    "        self.prediction = tf.nn.softmax(self.logits)\n",
    "        self.loss = tf.reduce_mean(tf.nn.softmax_cross_entropy_with_logits(self.logits, labels))\n",
    "\n",
    "        # Determine if the predictions are correct\n",
    "        is_correct_prediction = tf.equal(tf.argmax(self.prediction, 1), tf.argmax(labels, 1))\n",
    "        # Calculate the accuracy of the predictions\n",
    "        self.accuracy = tf.reduce_mean(tf.cast(is_correct_prediction, tf.float32))\n",
    "\n",
    "    def get_number_training_samples(self):\n",
    "        \"\"\"\n",
    "\n",
    "        :return:\n",
    "        \"\"\"\n",
    "        return self.training_features.shape[0]\n",
    "\n",
    "    def get_number_test_samples(self):\n",
    "        \"\"\"\n",
    "\n",
    "        :return:\n",
    "        \"\"\"\n",
    "        return self.test_features.shape[0]"
   ]
  },
  {
   "cell_type": "code",
   "execution_count": 2,
   "metadata": {
    "collapsed": true
   },
   "outputs": [],
   "source": [
    "# Create a single instance of TrafficSignClassifier\n",
    "tsc = TrafficSignClassifier('traffic-signs-data')"
   ]
  },
  {
   "cell_type": "markdown",
   "metadata": {},
   "source": [
    "---\n",
    "\n",
    "## Step 1: Dataset Exploration\n",
    "\n",
    "Visualize the German Traffic Signs Dataset. This is open ended, some suggestions include: plotting traffic signs images, plotting the count of each sign, etc. Be creative!\n",
    "\n",
    "\n",
    "The pickled data is a dictionary with 4 key/value pairs:\n",
    "\n",
    "- features -> the images pixel values, (width, height, channels)\n",
    "- labels -> the label of the traffic sign\n",
    "- sizes -> the original width and height of the image, (width, height)\n",
    "- coords -> coordinates of a bounding box around the sign in the image, (x1, y1, x2, y2). Based the original image (not the resized version)."
   ]
  },
  {
   "cell_type": "code",
   "execution_count": null,
   "metadata": {
    "collapsed": false
   },
   "outputs": [],
   "source": [
    "### To start off let's do a basic data summary.\n",
    "tsc.basic_summary()"
   ]
  },
  {
   "cell_type": "code",
   "execution_count": null,
   "metadata": {
    "collapsed": false
   },
   "outputs": [],
   "source": [
    "### Data exploration visualization goes here.\n",
    "### Feel free to use as many code cells as needed.\n",
    "tsc.visualize_training_set()"
   ]
  },
  {
   "cell_type": "markdown",
   "metadata": {},
   "source": [
    "----\n",
    "\n",
    "## Step 2: Design and Test a Model Architecture\n",
    "\n",
    "Design and implement a deep learning model that learns to recognize traffic signs. Train and test your model on the [German Traffic Sign Dataset](http://benchmark.ini.rub.de/?section=gtsrb&subsection=dataset).\n",
    "\n",
    "There are various aspects to consider when thinking about this problem:\n",
    "\n",
    "- Your model can be derived from a deep feedforward net or a deep convolutional network.\n",
    "- Play around preprocessing techniques (normalization, rgb to grayscale, etc)\n",
    "- Number of examples per label (some have more than others).\n",
    "- Generate fake data.\n",
    "\n",
    "Here is an example of a [published baseline model on this problem](http://yann.lecun.com/exdb/publis/pdf/sermanet-ijcnn-11.pdf). It's not required to be familiar with the approach used in the paper but, it's good practice to try to read papers like these."
   ]
  },
  {
   "cell_type": "markdown",
   "metadata": {},
   "source": [
    "### Implementation\n",
    "\n",
    "Use the code cell (or multiple code cells, if necessary) to implement the first step of your project. Once you have completed your implementation and are satisfied with the results, be sure to thoroughly answer the questions that follow."
   ]
  },
  {
   "cell_type": "code",
   "execution_count": null,
   "metadata": {
    "collapsed": false
   },
   "outputs": [
    {
     "name": "stdout",
     "output_type": "stream",
     "text": [
      "Epoch 1/100 with Loss of 17039.547280 and Accuracy of 0.544729\n",
      "Validation Loss of 4793.982330 and Accuracy of 0.718429\n",
      "Epoch 2/100 with Loss of 2490.085483 and Accuracy of 0.816795\n",
      "Validation Loss of 2328.653130 and Accuracy of 0.823463\n",
      "Epoch 3/100 with Loss of 1040.044703 and Accuracy of 0.896778\n",
      "Validation Loss of 1925.670580 and Accuracy of 0.853640\n",
      "Epoch 4/100 with Loss of 578.421539 and Accuracy of 0.931429\n",
      "Validation Loss of 1506.540573 and Accuracy of 0.877652\n",
      "Epoch 5/100 with Loss of 435.614225 and Accuracy of 0.944049\n",
      "Validation Loss of 1512.360437 and Accuracy of 0.888826\n",
      "Epoch 6/100 with Loss of 314.068572 and Accuracy of 0.958160\n",
      "Validation Loss of 1069.193919 and Accuracy of 0.913902\n",
      "Epoch 7/100 with Loss of 278.101146 and Accuracy of 0.961935\n",
      "Validation Loss of 992.369161 and Accuracy of 0.915465\n",
      "Epoch 8/100 with Loss of 219.533521 and Accuracy of 0.967981\n",
      "Validation Loss of 884.640227 and Accuracy of 0.923302\n",
      "Epoch 9/100 with Loss of 184.326578 and Accuracy of 0.973504\n",
      "Validation Loss of 743.401503 and Accuracy of 0.935600\n",
      "Epoch 10/100 with Loss of 157.652456 and Accuracy of 0.977873\n",
      "Validation Loss of 759.275733 and Accuracy of 0.937204\n",
      "Epoch 11/100 with Loss of 144.520434 and Accuracy of 0.979024\n",
      "Validation Loss of 613.445895 and Accuracy of 0.943015\n",
      "Epoch 12/100 with Loss of 113.255244 and Accuracy of 0.983014\n",
      "Validation Loss of 664.723489 and Accuracy of 0.943961\n",
      "Epoch 13/100 with Loss of 109.687384 and Accuracy of 0.983990\n",
      "Validation Loss of 585.212230 and Accuracy of 0.948691\n",
      "Epoch 14/100 with Loss of 111.536455 and Accuracy of 0.984373\n",
      "Validation Loss of 528.930326 and Accuracy of 0.952804\n"
     ]
    }
   ],
   "source": [
    "### Preprocess the data here.\n",
    "### Feel free to use as many code cells as needed.\n",
    "\n",
    "tsc.generate_additional_training_features()\n",
    "tsc.pre_process_features()\n",
    "tsc.generate_ohe_encoding()\n",
    "tsc.split_training_set()\n",
    "\n",
    "tsc.train()"
   ]
  },
  {
   "cell_type": "markdown",
   "metadata": {},
   "source": [
    "### Question 1 \n",
    "\n",
    "_Describe the techniques used to preprocess the data._"
   ]
  },
  {
   "cell_type": "markdown",
   "metadata": {},
   "source": [
    "**Answer:**"
   ]
  },
  {
   "cell_type": "code",
   "execution_count": null,
   "metadata": {
    "collapsed": true
   },
   "outputs": [],
   "source": [
    "### Generate data additional (if you want to!)\n",
    "### and split the data into training/validation/testing sets here.\n",
    "### Feel free to use as many code cells as needed."
   ]
  },
  {
   "cell_type": "markdown",
   "metadata": {},
   "source": [
    "### Question 2\n",
    "\n",
    "_Describe how you set up the training, validation and testing data for your model. If you generated additional data, why?_"
   ]
  },
  {
   "cell_type": "markdown",
   "metadata": {},
   "source": [
    "**Answer:**"
   ]
  },
  {
   "cell_type": "code",
   "execution_count": null,
   "metadata": {
    "collapsed": true
   },
   "outputs": [],
   "source": [
    "### Define your architecture here.\n",
    "### Feel free to use as many code cells as needed."
   ]
  },
  {
   "cell_type": "markdown",
   "metadata": {},
   "source": [
    "### Question 3\n",
    "\n",
    "_What does your final architecture look like? (Type of model, layers, sizes, connectivity, etc.)  For reference on how to build a deep neural network using TensorFlow, see [Deep Neural Network in TensorFlow\n",
    "](https://classroom.udacity.com/nanodegrees/nd013/parts/fbf77062-5703-404e-b60c-95b78b2f3f9e/modules/6df7ae49-c61c-4bb2-a23e-6527e69209ec/lessons/b516a270-8600-4f93-a0a3-20dfeabe5da6/concepts/83a3a2a2-a9bd-4b7b-95b0-eb924ab14432) from the classroom._\n"
   ]
  },
  {
   "cell_type": "markdown",
   "metadata": {},
   "source": [
    "**Answer:**"
   ]
  },
  {
   "cell_type": "code",
   "execution_count": null,
   "metadata": {
    "collapsed": true
   },
   "outputs": [],
   "source": [
    "### Train your model here.\n",
    "### Feel free to use as many code cells as needed."
   ]
  },
  {
   "cell_type": "markdown",
   "metadata": {},
   "source": [
    "### Question 4\n",
    "\n",
    "_How did you train your model? (Type of optimizer, batch size, epochs, hyperparameters, etc.)_\n"
   ]
  },
  {
   "cell_type": "markdown",
   "metadata": {},
   "source": [
    "**Answer:**"
   ]
  },
  {
   "cell_type": "markdown",
   "metadata": {},
   "source": [
    "### Question 5\n",
    "\n",
    "\n",
    "_What approach did you take in coming up with a solution to this problem?_"
   ]
  },
  {
   "cell_type": "markdown",
   "metadata": {},
   "source": [
    "**Answer:**"
   ]
  },
  {
   "cell_type": "markdown",
   "metadata": {},
   "source": [
    "---\n",
    "\n",
    "## Step 3: Test a Model on New Images\n",
    "\n",
    "Take several pictures of traffic signs that you find on the web or around you (at least five), and run them through your classifier on your computer to produce example results. The classifier might not recognize some local signs but it could prove interesting nonetheless.\n",
    "\n",
    "You may find `signnames.csv` useful as it contains mappings from the class id (integer) to the actual sign name."
   ]
  },
  {
   "cell_type": "markdown",
   "metadata": {},
   "source": [
    "### Implementation\n",
    "\n",
    "Use the code cell (or multiple code cells, if necessary) to implement the first step of your project. Once you have completed your implementation and are satisfied with the results, be sure to thoroughly answer the questions that follow."
   ]
  },
  {
   "cell_type": "code",
   "execution_count": null,
   "metadata": {
    "collapsed": true
   },
   "outputs": [],
   "source": [
    "### Load the images and plot them here.\n",
    "### Feel free to use as many code cells as needed."
   ]
  },
  {
   "cell_type": "markdown",
   "metadata": {},
   "source": [
    "### Question 6\n",
    "\n",
    "_Choose five candidate images of traffic signs and provide them in the report. Are there any particular qualities of the image(s) that might make classification difficult? It would be helpful to plot the images in the notebook._\n",
    "\n"
   ]
  },
  {
   "cell_type": "markdown",
   "metadata": {},
   "source": [
    "**Answer:**"
   ]
  },
  {
   "cell_type": "code",
   "execution_count": null,
   "metadata": {
    "collapsed": true
   },
   "outputs": [],
   "source": [
    "### Run the predictions here.\n",
    "### Feel free to use as many code cells as needed."
   ]
  },
  {
   "cell_type": "markdown",
   "metadata": {},
   "source": [
    "### Question 7\n",
    "\n",
    "_Is your model able to perform equally well on captured pictures or a live camera stream when compared to testing on the dataset?_\n"
   ]
  },
  {
   "cell_type": "markdown",
   "metadata": {},
   "source": [
    "**Answer:**"
   ]
  },
  {
   "cell_type": "code",
   "execution_count": null,
   "metadata": {
    "collapsed": true
   },
   "outputs": [],
   "source": [
    "### Visualize the softmax probabilities here.\n",
    "### Feel free to use as many code cells as needed."
   ]
  },
  {
   "cell_type": "markdown",
   "metadata": {},
   "source": [
    "### Question 8\n",
    "\n",
    "*Use the model's softmax probabilities to visualize the **certainty** of its predictions, [`tf.nn.top_k`](https://www.tensorflow.org/versions/r0.11/api_docs/python/nn.html#top_k) could prove helpful here. Which predictions is the model certain of? Uncertain? If the model was incorrect in its initial prediction, does the correct prediction appear in the top k? (k should be 5 at most)*\n"
   ]
  },
  {
   "cell_type": "markdown",
   "metadata": {},
   "source": [
    "**Answer:**"
   ]
  },
  {
   "cell_type": "markdown",
   "metadata": {},
   "source": [
    "### Question 9\n",
    "_If necessary, provide documentation for how an interface was built for your model to load and classify newly-acquired images._\n"
   ]
  },
  {
   "cell_type": "markdown",
   "metadata": {},
   "source": [
    "**Answer:**"
   ]
  },
  {
   "cell_type": "markdown",
   "metadata": {},
   "source": [
    "> **Note**: Once you have completed all of the code implementations and successfully answered each question above, you may finalize your work by exporting the iPython Notebook as an HTML document. You can do this by using the menu above and navigating to  \\n\",\n",
    "    \"**File -> Download as -> HTML (.html)**. Include the finished document along with this notebook as your submission."
   ]
  },
  {
   "cell_type": "code",
   "execution_count": null,
   "metadata": {
    "collapsed": true
   },
   "outputs": [],
   "source": []
  }
 ],
 "metadata": {
  "anaconda-cloud": {},
  "kernelspec": {
   "display_name": "Python [default]",
   "language": "python",
   "name": "python3"
  },
  "language_info": {
   "codemirror_mode": {
    "name": "ipython",
    "version": 3
   },
   "file_extension": ".py",
   "mimetype": "text/x-python",
   "name": "python",
   "nbconvert_exporter": "python",
   "pygments_lexer": "ipython3",
   "version": "3.5.2"
  }
 },
 "nbformat": 4,
 "nbformat_minor": 1
}
