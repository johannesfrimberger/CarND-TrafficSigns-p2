{
 "cells": [
  {
   "cell_type": "markdown",
   "metadata": {},
   "source": [
    "# Self-Driving Car Engineer Nanodegree\n",
    "\n",
    "## Deep Learning\n",
    "\n",
    "## Project: Build a Traffic Sign Recognition Classifier\n",
    "\n",
    "In this notebook, a template is provided for you to implement your functionality in stages which is required to successfully complete this project. If additional code is required that cannot be included in the notebook, be sure that the Python code is successfully imported and included in your submission, if necessary. Sections that begin with **'Implementation'** in the header indicate where you should begin your implementation for your project. Note that some sections of implementation are optional, and will be marked with **'Optional'** in the header.\n",
    "\n",
    "In addition to implementing code, there will be questions that you must answer which relate to the project and your implementation. Each section where you will answer a question is preceded by a **'Question'** header. Carefully read each question and provide thorough answers in the following text boxes that begin with **'Answer:'**. Your project submission will be evaluated based on your answers to each of the questions and the implementation you provide.\n",
    "\n",
    ">**Note:** Code and Markdown cells can be executed using the **Shift + Enter** keyboard shortcut. In addition, Markdown cells can be edited by typically double-clicking the cell to enter edit mode."
   ]
  },
  {
   "cell_type": "markdown",
   "metadata": {},
   "source": [
    "---\n",
    "## Step 0: Load The Data"
   ]
  },
  {
   "cell_type": "code",
   "execution_count": 1,
   "metadata": {
    "collapsed": false
   },
   "outputs": [],
   "source": [
    "# Load pickled data\n",
    "import pickle\n",
    "import os\n",
    "\n",
    "data_folder = 'traffic-signs-data'\n",
    "training_file = os.path.join(data_folder, 'train.p')\n",
    "testing_file = os.path.join(data_folder, 'test.p')\n",
    "\n",
    "with open(training_file, mode='rb') as f:\n",
    "    train = pickle.load(f)\n",
    "with open(testing_file, mode='rb') as f:\n",
    "    test = pickle.load(f)\n",
    "    \n",
    "X_train, y_train = train['features'], train['labels']\n",
    "X_test, y_test = test['features'], test['labels']"
   ]
  },
  {
   "cell_type": "markdown",
   "metadata": {},
   "source": [
    "---\n",
    "\n",
    "## Step 1: Dataset Summary & Exploration\n",
    "\n",
    "The pickled data is a dictionary with 4 key/value pairs:\n",
    "\n",
    "- `'features'` is a 4D array containing raw pixel data of the traffic sign images, (num examples, width, height, channels).\n",
    "- `'labels'` is a 2D array containing the label/class id of the traffic sign. The file `signnames.csv` contains id -> name mappings for each id.\n",
    "- `'sizes'` is a list containing tuples, (width, height) representing the the original width and height the image.\n",
    "- `'coords'` is a list containing tuples, (x1, y1, x2, y2) representing coordinates of a bounding box around the sign in the image. **THESE COORDINATES ASSUME THE ORIGINAL IMAGE. THE PICKLED DATA CONTAINS RESIZED VERSIONS (32 by 32) OF THESE IMAGES**\n",
    "\n",
    "Complete the basic data summary below."
   ]
  },
  {
   "cell_type": "code",
   "execution_count": 2,
   "metadata": {
    "collapsed": false
   },
   "outputs": [
    {
     "name": "stdout",
     "output_type": "stream",
     "text": [
      "Number of training examples = 39209\n",
      "Number of testing examples = 12630\n",
      "Image data shape = (32, 32)\n",
      "Number of classes = 43\n"
     ]
    }
   ],
   "source": [
    "# Number of training examples\n",
    "n_train = X_train.shape[0]\n",
    "\n",
    "# Number of testing examples.\n",
    "n_test = X_test.shape[0]\n",
    "\n",
    "# What's the shape of an traffic sign image?\n",
    "image_shape = X_train.shape[1:3]\n",
    "\n",
    "# How many unique classes/labels there are in the dataset.\n",
    "n_classes = len(set(y_train))\n",
    "\n",
    "print(\"Number of training examples =\", n_train)\n",
    "print(\"Number of testing examples =\", n_test)\n",
    "print(\"Image data shape =\", image_shape)\n",
    "print(\"Number of classes =\", n_classes)"
   ]
  },
  {
   "cell_type": "markdown",
   "metadata": {},
   "source": [
    "Visualize the German Traffic Signs Dataset using the pickled file(s). This is open ended, suggestions include: plotting traffic sign images, plotting the count of each sign, etc.\n",
    "\n",
    "The [Matplotlib](http://matplotlib.org/) [examples](http://matplotlib.org/examples/index.html) and [gallery](http://matplotlib.org/gallery.html) pages are a great resource for doing visualizations in Python.\n",
    "\n",
    "**NOTE:** It's recommended you start with something simple first. If you wish to do more, come back to it after you've completed the rest of the sections."
   ]
  },
  {
   "cell_type": "code",
   "execution_count": 3,
   "metadata": {
    "collapsed": true
   },
   "outputs": [],
   "source": [
    "### Data exploration visualization goes here.\n",
    "### Feel free to use as many code cells as needed.\n",
    "import matplotlib.pyplot as plt\n",
    "# Visualizations will be shown in the notebook.\n",
    "%matplotlib inline\n",
    "\n",
    "def visualize_dataset(features, labels, n_classes, histogram=True, overview=True):\n",
    "    \"\"\"\n",
    "    Visualize the given features and labels.\n",
    "    It shows a histogram of the distribution of classes and examples of the classes.\n",
    "    :param features: List of evaluated features\n",
    "    :param labels: List of evaluated labels\n",
    "    :param histogram: Show histogram of class labels\n",
    "    :param overview: Show overview on class labels\n",
    "    \"\"\"\n",
    "    if histogram:\n",
    "        # Create a histogram of training lables\n",
    "        fig = plt.figure()\n",
    "        n, bins, patches = plt.hist(labels, n_classes)\n",
    "\n",
    "        plt.xlabel('Traffic Sign Classes')\n",
    "        plt.ylabel('occurrences')\n",
    "        plt.show()\n",
    "\n",
    "    if overview:\n",
    "        fig = plt.figure()\n",
    "        fig.suptitle('Overview Traffic Signs', fontsize=16)\n",
    "\n",
    "        # Create an overview of trafic sign classes\n",
    "        pltRows = 5\n",
    "        pltCols = (n_classes / pltRows) + 1\n",
    "        for el in range(n_classes):\n",
    "            for i in range(0, len(labels)):\n",
    "                if (labels[i] == el):\n",
    "                    plt.subplot(pltRows, pltCols, el + 1)\n",
    "                    fig = plt.imshow(features[i, :, :, :], interpolation='nearest')\n",
    "                    fig.axes.get_xaxis().set_visible(False)\n",
    "                    fig.axes.get_yaxis().set_visible(False)\n",
    "                    break\n",
    "        plt.show()"
   ]
  },
  {
   "cell_type": "code",
   "execution_count": 4,
   "metadata": {
    "collapsed": false
   },
   "outputs": [],
   "source": [
    "#visualize_dataset(X_train, y_train, n_classes)"
   ]
  },
  {
   "cell_type": "markdown",
   "metadata": {},
   "source": [
    "----\n",
    "\n",
    "## Step 2: Design and Test a Model Architecture\n",
    "\n",
    "Design and implement a deep learning model that learns to recognize traffic signs. Train and test your model on the [German Traffic Sign Dataset](http://benchmark.ini.rub.de/?section=gtsrb&subsection=dataset).\n",
    "\n",
    "There are various aspects to consider when thinking about this problem:\n",
    "\n",
    "- Neural network architecture\n",
    "- Play around preprocessing techniques (normalization, rgb to grayscale, etc)\n",
    "- Number of examples per label (some have more than others).\n",
    "- Generate fake data.\n",
    "\n",
    "Here is an example of a [published baseline model on this problem](http://yann.lecun.com/exdb/publis/pdf/sermanet-ijcnn-11.pdf). It's not required to be familiar with the approach used in the paper but, it's good practice to try to read papers like these.\n",
    "\n",
    "**NOTE:** The LeNet-5 implementation shown in the [classroom](https://classroom.udacity.com/nanodegrees/nd013/parts/fbf77062-5703-404e-b60c-95b78b2f3f9e/modules/6df7ae49-c61c-4bb2-a23e-6527e69209ec/lessons/601ae704-1035-4287-8b11-e2c2716217ad/concepts/d4aca031-508f-4e0b-b493-e7b706120f81) at the end of the CNN lesson is a solid starting point. You'll have to change the number of classes and possibly the preprocessing, but aside from that it's plug and play!"
   ]
  },
  {
   "cell_type": "markdown",
   "metadata": {},
   "source": [
    "### Implementation\n",
    "\n",
    "Use the code cell (or multiple code cells, if necessary) to implement the first step of your project. Once you have completed your implementation and are satisfied with the results, be sure to thoroughly answer the questions that follow."
   ]
  },
  {
   "cell_type": "code",
   "execution_count": 5,
   "metadata": {
    "collapsed": false
   },
   "outputs": [],
   "source": [
    "### Preprocess the data here.\n",
    "### Feel free to use as many code cells as needed.\n",
    "\n",
    "import cv2\n",
    "import numpy as np\n",
    "\n",
    "def pre_process_image(image):\n",
    "    \"\"\"\n",
    "    Convert image to YUV space and normalize results\n",
    "    :return: Normalized image in yuv space\n",
    "    \"\"\"\n",
    "    yuv = cv2.cvtColor(image, cv2.COLOR_BGR2YUV)\n",
    "    yuv[:, :, 0] = cv2.equalizeHist(yuv[:, :, 0])\n",
    "    return (yuv / 255. * 2.) - 1.\n",
    "\n",
    "all_processed_training_features = np.array([pre_process_image(X_train[i]) for i in range(len(X_train))], dtype=np.float32)\n",
    "test_features = np.array([pre_process_image(X_test[i]) for i in range(len(X_test))], dtype=np.float32)"
   ]
  },
  {
   "cell_type": "markdown",
   "metadata": {},
   "source": [
    "### Question 1 \n",
    "\n",
    "_Describe how you preprocessed the data. Why did you choose that technique?_"
   ]
  },
  {
   "cell_type": "markdown",
   "metadata": {},
   "source": [
    "**Answer:**"
   ]
  },
  {
   "cell_type": "code",
   "execution_count": 6,
   "metadata": {
    "collapsed": true
   },
   "outputs": [],
   "source": [
    "### Generate data additional data (OPTIONAL!)\n",
    "### and split the data into training/validation/testing sets here.\n",
    "### Feel free to use as many code cells as needed.\n",
    "\n",
    "from sklearn.model_selection import train_test_split\n",
    "\n",
    "training_features, valid_features, training_labels, valid_labels = train_test_split(\n",
    "            all_processed_training_features,\n",
    "            y_train,\n",
    "            test_size=0.15,\n",
    "            random_state=10)"
   ]
  },
  {
   "cell_type": "markdown",
   "metadata": {},
   "source": [
    "### Question 2\n",
    "\n",
    "_Describe how you set up the training, validation and testing data for your model. **Optional**: If you generated additional data, how did you generate the data? Why did you generate the data? What are the differences in the new dataset (with generated data) from the original dataset?_"
   ]
  },
  {
   "cell_type": "markdown",
   "metadata": {},
   "source": [
    "**Answer:**"
   ]
  },
  {
   "cell_type": "code",
   "execution_count": 7,
   "metadata": {
    "collapsed": false
   },
   "outputs": [],
   "source": [
    "### Define your architecture here.\n",
    "import tensorflow as tf\n",
    "from tensorflow.contrib.layers import flatten\n",
    "\n",
    "x = tf.placeholder(tf.float32, (None, 32, 32, 3))\n",
    "y = tf.placeholder(tf.int32, (None))\n",
    "one_hot_y = tf.one_hot(y, n_classes)\n",
    "keep_prob = tf.placeholder(tf.float32)\n",
    "\n",
    "# Hyperparameters\n",
    "mu = 0\n",
    "sigma = 0.1\n",
    "\n",
    "# Layer 1: Convolutional. Input = 32x32x1. Output = 28x28x6.\n",
    "conv1_W = tf.Variable(tf.truncated_normal(shape=(5, 5, 3, 6), mean = mu, stddev = sigma))\n",
    "conv1_b = tf.Variable(tf.zeros(6))\n",
    "conv1   = tf.nn.conv2d(x, conv1_W, strides=[1, 1, 1, 1], padding='VALID') + conv1_b\n",
    "\n",
    "# Activation.\n",
    "conv1 = tf.nn.relu(conv1)\n",
    "\n",
    "# Pooling. Input = 28x28x6. Output = 14x14x6.\n",
    "conv1 = tf.nn.max_pool(conv1, ksize=[1, 2, 2, 1], strides=[1, 2, 2, 1], padding='VALID')\n",
    "\n",
    "# SLayer 2: Convolutional. Output = 10x10x16.\n",
    "conv2_W = tf.Variable(tf.truncated_normal(shape=(5, 5, 6, 16), mean = mu, stddev = sigma))\n",
    "conv2_b = tf.Variable(tf.zeros(16))\n",
    "conv2   = tf.nn.conv2d(conv1, conv2_W, strides=[1, 1, 1, 1], padding='VALID') + conv2_b\n",
    "\n",
    "# Activation.\n",
    "conv2 = tf.nn.relu(conv2)\n",
    "\n",
    "# Pooling. Input = 10x10x16. Output = 5x5x16.\n",
    "#conv2 = tf.nn.max_pool(conv2, ksize=[1, 2, 2, 1], strides=[1, 2, 2, 1], padding='VALID')\n",
    "\n",
    "# Flatten. Input = 5x5x16. Output = 400.\n",
    "fc0   = flatten(conv2)\n",
    "\n",
    "dense_layer1 = 512\n",
    "dense_layer2 = 256\n",
    "\n",
    "# Store layers weight & bias\n",
    "weights = {\n",
    "    'hidden_layer1': tf.Variable(tf.truncated_normal(shape=(1600, dense_layer1), mean = mu, stddev = sigma)),\n",
    "    'hidden_layer2': tf.Variable(tf.truncated_normal(shape=(dense_layer1, dense_layer2), mean = mu, stddev = sigma)),\n",
    "    'out': tf.Variable(tf.truncated_normal(shape=(dense_layer2, n_classes), mean = mu, stddev = sigma)),\n",
    "}\n",
    "biases = {\n",
    "    'hidden_layer1': tf.Variable(tf.zeros(dense_layer1)),\n",
    "    'hidden_layer2': tf.Variable(tf.zeros(dense_layer2)),\n",
    "    'out': tf.Variable(tf.zeros(n_classes)),\n",
    "}\n",
    "\n",
    "# Layer 3: Fully Connected. Input = 400. Output = 120.\n",
    "fc1 = tf.matmul(fc0, weights['hidden_layer1']) + biases['hidden_layer1']\n",
    "\n",
    "# Activation.\n",
    "fc1 = tf.nn.relu(fc1)\n",
    "fc1 = tf.nn.dropout(fc1, keep_prob)\n",
    "\n",
    "# Layer 4: Fully Connected. Input = 120. Output = 84.\n",
    "fc2 = tf.matmul(fc1, weights['hidden_layer2']) + biases['hidden_layer2']\n",
    "\n",
    "# Activation.\n",
    "fc2    = tf.nn.relu(fc2)\n",
    "fc2 = tf.nn.dropout(fc2, keep_prob)\n",
    "\n",
    "# Layer 5: Fully Connected. Input = 84. Output = 43.\n",
    "logits = tf.matmul(fc2, weights['out']) + biases['out']"
   ]
  },
  {
   "cell_type": "markdown",
   "metadata": {},
   "source": [
    "### Question 3\n",
    "\n",
    "_What does your final architecture look like? (Type of model, layers, sizes, connectivity, etc.)  For reference on how to build a deep neural network using TensorFlow, see [Deep Neural Network in TensorFlow\n",
    "](https://classroom.udacity.com/nanodegrees/nd013/parts/fbf77062-5703-404e-b60c-95b78b2f3f9e/modules/6df7ae49-c61c-4bb2-a23e-6527e69209ec/lessons/b516a270-8600-4f93-a0a3-20dfeabe5da6/concepts/83a3a2a2-a9bd-4b7b-95b0-eb924ab14432) from the classroom._\n"
   ]
  },
  {
   "cell_type": "markdown",
   "metadata": {},
   "source": [
    "**Answer:**"
   ]
  },
  {
   "cell_type": "code",
   "execution_count": 8,
   "metadata": {
    "collapsed": false
   },
   "outputs": [
    {
     "name": "stdout",
     "output_type": "stream",
     "text": [
      "Training...\n",
      "\n",
      "EPOCH 1 ...\n",
      "Validation Accuracy = 0.929\n",
      "\n",
      "EPOCH 2 ...\n",
      "Validation Accuracy = 0.962\n",
      "\n",
      "EPOCH 3 ...\n",
      "Validation Accuracy = 0.970\n",
      "\n",
      "EPOCH 4 ...\n",
      "Validation Accuracy = 0.973\n",
      "\n",
      "EPOCH 5 ...\n",
      "Validation Accuracy = 0.979\n",
      "\n",
      "EPOCH 6 ...\n",
      "Validation Accuracy = 0.981\n",
      "\n",
      "EPOCH 7 ...\n",
      "Validation Accuracy = 0.980\n",
      "\n",
      "EPOCH 8 ...\n",
      "Validation Accuracy = 0.984\n",
      "\n",
      "EPOCH 9 ...\n",
      "Validation Accuracy = 0.986\n",
      "\n",
      "EPOCH 10 ...\n",
      "Validation Accuracy = 0.982\n",
      "\n",
      "EPOCH 11 ...\n",
      "Validation Accuracy = 0.982\n",
      "\n",
      "EPOCH 12 ...\n",
      "Validation Accuracy = 0.982\n",
      "\n",
      "EPOCH 13 ...\n",
      "Validation Accuracy = 0.987\n",
      "\n",
      "EPOCH 14 ...\n",
      "Validation Accuracy = 0.987\n",
      "\n",
      "EPOCH 15 ...\n",
      "Validation Accuracy = 0.988\n",
      "\n",
      "EPOCH 16 ...\n",
      "Validation Accuracy = 0.988\n",
      "\n",
      "EPOCH 17 ...\n",
      "Validation Accuracy = 0.988\n",
      "\n",
      "EPOCH 18 ...\n",
      "Validation Accuracy = 0.985\n",
      "\n",
      "EPOCH 19 ...\n",
      "Validation Accuracy = 0.984\n",
      "\n",
      "EPOCH 20 ...\n",
      "Validation Accuracy = 0.988\n",
      "\n",
      "EPOCH 21 ...\n",
      "Validation Accuracy = 0.985\n",
      "\n",
      "EPOCH 22 ...\n",
      "Validation Accuracy = 0.989\n",
      "\n",
      "EPOCH 23 ...\n",
      "Validation Accuracy = 0.989\n",
      "\n",
      "EPOCH 24 ...\n",
      "Validation Accuracy = 0.986\n",
      "\n",
      "EPOCH 25 ...\n",
      "Validation Accuracy = 0.991\n",
      "\n",
      "EPOCH 26 ...\n",
      "Validation Accuracy = 0.987\n",
      "\n",
      "EPOCH 27 ...\n",
      "Validation Accuracy = 0.991\n",
      "\n",
      "EPOCH 28 ...\n",
      "Validation Accuracy = 0.989\n",
      "\n",
      "EPOCH 29 ...\n",
      "Validation Accuracy = 0.984\n",
      "\n",
      "EPOCH 30 ...\n",
      "Validation Accuracy = 0.989\n",
      "\n",
      "EPOCH 31 ...\n",
      "Validation Accuracy = 0.986\n",
      "\n",
      "EPOCH 32 ...\n",
      "Validation Accuracy = 0.987\n",
      "\n",
      "EPOCH 33 ...\n",
      "Validation Accuracy = 0.990\n",
      "\n",
      "EPOCH 34 ...\n",
      "Validation Accuracy = 0.991\n",
      "\n",
      "EPOCH 35 ...\n",
      "Validation Accuracy = 0.988\n",
      "\n",
      "EPOCH 36 ...\n",
      "Validation Accuracy = 0.990\n",
      "\n",
      "EPOCH 37 ...\n",
      "Validation Accuracy = 0.986\n",
      "\n",
      "EPOCH 38 ...\n",
      "Validation Accuracy = 0.990\n",
      "\n",
      "EPOCH 39 ...\n",
      "Validation Accuracy = 0.989\n",
      "\n",
      "EPOCH 40 ...\n",
      "Validation Accuracy = 0.989\n",
      "\n",
      "EPOCH 41 ...\n",
      "Validation Accuracy = 0.988\n",
      "\n",
      "EPOCH 42 ...\n",
      "Validation Accuracy = 0.990\n",
      "\n",
      "EPOCH 43 ...\n",
      "Validation Accuracy = 0.989\n",
      "\n",
      "EPOCH 44 ...\n",
      "Validation Accuracy = 0.989\n",
      "\n",
      "EPOCH 45 ...\n",
      "Validation Accuracy = 0.991\n",
      "\n",
      "EPOCH 46 ...\n",
      "Validation Accuracy = 0.984\n",
      "\n",
      "EPOCH 47 ...\n",
      "Validation Accuracy = 0.991\n",
      "\n",
      "EPOCH 48 ...\n",
      "Validation Accuracy = 0.988\n",
      "\n",
      "EPOCH 49 ...\n",
      "Validation Accuracy = 0.988\n",
      "\n",
      "EPOCH 50 ...\n",
      "Validation Accuracy = 0.988\n",
      "\n",
      "Model saved\n",
      "Test Accuracy = 0.953\n"
     ]
    }
   ],
   "source": [
    "### Train your model here.\n",
    "from sklearn.utils import shuffle\n",
    "\n",
    "EPOCHS = 50\n",
    "BATCH_SIZE = 50\n",
    "rate = 0.001\n",
    "\n",
    "def evaluate(X_data, y_data):\n",
    "    num_examples = len(X_data)\n",
    "    total_accuracy = 0\n",
    "    sess = tf.get_default_session()\n",
    "    for offset in range(0, num_examples, BATCH_SIZE):\n",
    "        batch_x, batch_y = X_data[offset:offset+BATCH_SIZE], y_data[offset:offset+BATCH_SIZE]\n",
    "        accuracy = sess.run(accuracy_operation, feed_dict={x: batch_x, y: batch_y, keep_prob: 1.0})\n",
    "        total_accuracy += (accuracy * len(batch_x))\n",
    "    return total_accuracy / num_examples\n",
    "\n",
    "\n",
    "cross_entropy = tf.nn.softmax_cross_entropy_with_logits(logits, one_hot_y)\n",
    "loss_operation = tf.reduce_mean(cross_entropy)\n",
    "\n",
    "\n",
    "beta = 0.001\n",
    "loss_operation = (loss_operation +\n",
    "            (beta * tf.nn.l2_loss(weights[\"hidden_layer1\"])) + (beta * tf.nn.l2_loss(biases[\"hidden_layer1\"])) + \n",
    "            (beta * tf.nn.l2_loss(weights[\"hidden_layer2\"])) + (beta * tf.nn.l2_loss(biases[\"hidden_layer2\"])) + \n",
    "            (beta * tf.nn.l2_loss(weights[\"out\"])) + (beta * tf.nn.l2_loss(biases[\"out\"])))\n",
    "    \n",
    "optimizer = tf.train.AdamOptimizer(learning_rate = rate)\n",
    "training_operation = optimizer.minimize(loss_operation)\n",
    "correct_prediction = tf.equal(tf.argmax(logits, 1), tf.argmax(one_hot_y, 1))\n",
    "accuracy_operation = tf.reduce_mean(tf.cast(correct_prediction, tf.float32))\n",
    "\n",
    "with tf.Session() as sess:\n",
    "    sess.run(tf.global_variables_initializer())\n",
    "    num_examples = len(training_features)\n",
    "    \n",
    "    print(\"Training...\")\n",
    "    print()\n",
    "    for i in range(EPOCHS):\n",
    "        training_features, training_labels = shuffle(training_features, training_labels)\n",
    "        \n",
    "        for offset in range(0, num_examples, BATCH_SIZE):\n",
    "            end = offset + BATCH_SIZE\n",
    "            batch_x, batch_y = training_features[offset:end], training_labels[offset:end]\n",
    "            sess.run(training_operation, feed_dict={x: batch_x, y: batch_y, keep_prob: 0.5})\n",
    "            \n",
    "        validation_accuracy = evaluate(valid_features, valid_labels)\n",
    "        print(\"EPOCH {} ...\".format(i+1))\n",
    "        print(\"Validation Accuracy = {:.3f}\".format(validation_accuracy))\n",
    "        print()\n",
    "        \n",
    "    try:\n",
    "        saver\n",
    "    except NameError:\n",
    "        saver = tf.train.Saver()\n",
    "    saver.save(sess, 'classifier')\n",
    "    print(\"Model saved\")\n",
    "    \n",
    "with tf.Session() as sess:\n",
    "    loader = tf.train.import_meta_graph('classifier.meta')\n",
    "    loader.restore(sess, tf.train.latest_checkpoint('./'))\n",
    "\n",
    "    test_accuracy = evaluate(test_features, y_test)\n",
    "    print(\"Test Accuracy = {:.3f}\".format(test_accuracy))"
   ]
  },
  {
   "cell_type": "markdown",
   "metadata": {},
   "source": [
    "### Question 4\n",
    "\n",
    "_How did you train your model? (Type of optimizer, batch size, epochs, hyperparameters, etc.)_\n"
   ]
  },
  {
   "cell_type": "markdown",
   "metadata": {},
   "source": [
    "**Answer:**"
   ]
  },
  {
   "cell_type": "code",
   "execution_count": null,
   "metadata": {
    "collapsed": true
   },
   "outputs": [],
   "source": []
  },
  {
   "cell_type": "markdown",
   "metadata": {},
   "source": [
    "### Question 5\n",
    "\n",
    "\n",
    "_What approach did you take in coming up with a solution to this problem? It may have been a process of trial and error, in which case, outline the steps you took to get to the final solution and why you chose those steps. Perhaps your solution involved an already well known implementation or architecture. In this case, discuss why you think this is suitable for the current problem._"
   ]
  },
  {
   "cell_type": "markdown",
   "metadata": {},
   "source": [
    "**Answer:**"
   ]
  },
  {
   "cell_type": "markdown",
   "metadata": {},
   "source": [
    "---\n",
    "\n",
    "## Step 3: Test a Model on New Images\n",
    "\n",
    "Take several pictures of traffic signs that you find on the web or around you (at least five), and run them through your classifier on your computer to produce example results. The classifier might not recognize some local signs but it could prove interesting nonetheless.\n",
    "\n",
    "You may find `signnames.csv` useful as it contains mappings from the class id (integer) to the actual sign name."
   ]
  },
  {
   "cell_type": "markdown",
   "metadata": {},
   "source": [
    "### Implementation\n",
    "\n",
    "Use the code cell (or multiple code cells, if necessary) to implement the first step of your project. Once you have completed your implementation and are satisfied with the results, be sure to thoroughly answer the questions that follow."
   ]
  },
  {
   "cell_type": "code",
   "execution_count": 9,
   "metadata": {
    "collapsed": false
   },
   "outputs": [
    {
     "data": {
      "image/png": "[encoded data removed]",
      "text/plain": [
       "<matplotlib.figure.Figure at 0x7fceb8c3c630>"
      ]
     },
     "metadata": {},
     "output_type": "display_data"
    }
   ],
   "source": [
    "### Load the images and plot them here.\n",
    "import matplotlib.image as mpimage\n",
    "import matplotlib.pyplot as plt\n",
    "\n",
    "filenames = [\"local-traffic-signs/img1.png\", \"local-traffic-signs/img2.png\", \"local-traffic-signs/img3.png\", \n",
    "             \"local-traffic-signs/img4.png\", \"local-traffic-signs/img5.png\"]\n",
    "\n",
    "# Create an overview of trafic sign classes and store them in list\n",
    "fig = plt.figure()\n",
    "fig.suptitle('Overview New Traffic Signs', fontsize=16)\n",
    "pltRows = 1\n",
    "pltCols = 5\n",
    "\n",
    "new_traffic_signs = []\n",
    "\n",
    "for el, filename in enumerate(filenames):\n",
    "    img = mpimage.imread(filename)\n",
    "    plt.subplot(pltRows, pltCols, el + 1)\n",
    "    fig = plt.imshow(img, interpolation='nearest')\n",
    "    fig.axes.get_xaxis().set_visible(False)\n",
    "    fig.axes.get_yaxis().set_visible(False)\n",
    "    # Resize images to 32x32 and add to list\n",
    "    img_uint8 = (img * 255.)\n",
    "    img_uint8 = img_uint8.astype(np.uint8)\n",
    "    new_traffic_signs.append(cv2.resize(img_uint8, (32, 32)))\n",
    "\n",
    "plt.show()\n",
    "\n",
    "# Set labels for new traffic signs (50, 50, 60, stop, dangerous curve to the right)\n",
    "new_traffic_signs_labels = [2, 2, 3, 14, 20]"
   ]
  },
  {
   "cell_type": "markdown",
   "metadata": {},
   "source": [
    "### Question 6\n",
    "\n",
    "_Choose five candidate images of traffic signs and provide them in the report. Are there any particular qualities of the image(s) that might make classification difficult? It could be helpful to plot the images in the notebook._\n",
    "\n"
   ]
  },
  {
   "cell_type": "markdown",
   "metadata": {},
   "source": [
    "**Answer:**"
   ]
  },
  {
   "cell_type": "code",
   "execution_count": 10,
   "metadata": {
    "collapsed": false
   },
   "outputs": [],
   "source": [
    "### Run the predictions here.\n",
    "\n",
    "# Preprocess image data and convert to np array\n",
    "pre_processed_images = np.asarray([pre_process_image(img) for img in new_traffic_signs])\n",
    "\n",
    "# Define new metric for softmax prediciton\n",
    "prediction = tf.nn.softmax(logits)\n",
    "\n",
    "with tf.Session() as sess:\n",
    "    loader = tf.train.import_meta_graph('classifier.meta')\n",
    "    loader.restore(sess, tf.train.latest_checkpoint('./'))\n",
    "    \n",
    "    s_max, test_accuracy = sess.run([prediction, accuracy_operation],\n",
    "                                    feed_dict={x: pre_processed_images, y: new_traffic_signs_labels, keep_prob: 1.0})"
   ]
  },
  {
   "cell_type": "markdown",
   "metadata": {},
   "source": [
    "### Question 7\n",
    "\n",
    "_Is your model able to perform equally well on captured pictures when compared to testing on the dataset? The simplest way to do this check the accuracy of the predictions. For example, if the model predicted 1 out of 5 signs correctly, it's 20% accurate._\n",
    "\n",
    "_**NOTE:** You could check the accuracy manually by using `signnames.csv` (same directory). This file has a mapping from the class id (0-42) to the corresponding sign name. So, you could take the class id the model outputs, lookup the name in `signnames.csv` and see if it matches the sign from the image._\n"
   ]
  },
  {
   "cell_type": "markdown",
   "metadata": {},
   "source": [
    "**Answer:**"
   ]
  },
  {
   "cell_type": "code",
   "execution_count": 11,
   "metadata": {
    "collapsed": false
   },
   "outputs": [
    {
     "name": "stdout",
     "output_type": "stream",
     "text": [
      "Accuracy on new images is = 0.600\n"
     ]
    }
   ],
   "source": [
    "### Visualize the softmax probabilities here.\n",
    "print(\"Accuracy on new images is = {:.3f}\".format(test_accuracy))"
   ]
  },
  {
   "cell_type": "markdown",
   "metadata": {},
   "source": [
    "### Question 8\n",
    "\n",
    "*Use the model's softmax probabilities to visualize the **certainty** of its predictions, [`tf.nn.top_k`](https://www.tensorflow.org/versions/r0.12/api_docs/python/nn.html#top_k) could prove helpful here. Which predictions is the model certain of? Uncertain? If the model was incorrect in its initial prediction, does the correct prediction appear in the top k? (k should be 5 at most)*\n",
    "\n",
    "`tf.nn.top_k` will return the values and indices (class ids) of the top k predictions. So if k=3, for each sign, it'll return the 3 largest probabilities (out of a possible 43) and the correspoding class ids.\n",
    "\n",
    "Take this numpy array as an example:\n",
    "\n",
    "```\n",
    "# (5, 6) array\n",
    "a = np.array([[ 0.24879643,  0.07032244,  0.12641572,  0.34763842,  0.07893497,\n",
    "         0.12789202],\n",
    "       [ 0.28086119,  0.27569815,  0.08594638,  0.0178669 ,  0.18063401,\n",
    "         0.15899337],\n",
    "       [ 0.26076848,  0.23664738,  0.08020603,  0.07001922,  0.1134371 ,\n",
    "         0.23892179],\n",
    "       [ 0.11943333,  0.29198961,  0.02605103,  0.26234032,  0.1351348 ,\n",
    "         0.16505091],\n",
    "       [ 0.09561176,  0.34396535,  0.0643941 ,  0.16240774,  0.24206137,\n",
    "         0.09155967]])\n",
    "```\n",
    "\n",
    "Running it through `sess.run(tf.nn.top_k(tf.constant(a), k=3))` produces:\n",
    "\n",
    "```\n",
    "TopKV2(values=array([[ 0.34763842,  0.24879643,  0.12789202],\n",
    "       [ 0.28086119,  0.27569815,  0.18063401],\n",
    "       [ 0.26076848,  0.23892179,  0.23664738],\n",
    "       [ 0.29198961,  0.26234032,  0.16505091],\n",
    "       [ 0.34396535,  0.24206137,  0.16240774]]), indices=array([[3, 0, 5],\n",
    "       [0, 1, 4],\n",
    "       [0, 5, 1],\n",
    "       [1, 3, 5],\n",
    "       [1, 4, 3]], dtype=int32))\n",
    "```\n",
    "\n",
    "Looking just at the first row we get `[ 0.34763842,  0.24879643,  0.12789202]`, you can confirm these are the 3 largest probabilities in `a`. You'll also notice `[3, 0, 5]` are the corresponding indices."
   ]
  },
  {
   "cell_type": "markdown",
   "metadata": {},
   "source": [
    "**Answer:**"
   ]
  },
  {
   "cell_type": "code",
   "execution_count": 12,
   "metadata": {
    "collapsed": false
   },
   "outputs": [
    {
     "name": "stdout",
     "output_type": "stream",
     "text": [
      "\"Speed limit (50km/h)\" was classified as:\n",
      "\t\t0:\t\"No passing for vechiles over 3.5 metric tons\" with 0.9613198637962341\n",
      "\t\t1:\t\"Speed limit (80km/h)\" with 0.03682996705174446\n",
      "\t\t2:\t\"Road work\" with 0.0005815436015836895\n",
      "\t\t3:\t\"Yield\" with 0.00027485136524774134\n",
      "\t\t4:\t\"Keep right\" with 0.00020541821140795946\n",
      "\"Speed limit (50km/h)\" was classified as:\n",
      "\t\t0:\t\"Speed limit (50km/h)\" with 0.9773553609848022\n",
      "\t\t1:\t\"Speed limit (120km/h)\" with 0.0035697005223482847\n",
      "\t\t2:\t\"Speed limit (30km/h)\" with 0.0021028572227805853\n",
      "\t\t3:\t\"Beware of ice/snow\" with 0.0020692339166998863\n",
      "\t\t4:\t\"Double curve\" with 0.0017888855654746294\n",
      "\"Speed limit (60km/h)\" was classified as:\n",
      "\t\t0:\t\"Speed limit (120km/h)\" with 0.7417752742767334\n",
      "\t\t1:\t\"Roundabout mandatory\" with 0.07027485221624374\n",
      "\t\t2:\t\"Speed limit (50km/h)\" with 0.06337564438581467\n",
      "\t\t3:\t\"Keep left\" with 0.05880540981888771\n",
      "\t\t4:\t\"Speed limit (100km/h)\" with 0.02580646239221096\n",
      "\"Stop\" was classified as:\n",
      "\t\t0:\t\"Stop\" with 0.9995412826538086\n",
      "\t\t1:\t\"Road work\" with 7.342050957959145e-05\n",
      "\t\t2:\t\"No entry\" with 6.909701187396422e-05\n",
      "\t\t3:\t\"Keep right\" with 4.815456850337796e-05\n",
      "\t\t4:\t\"Yield\" with 4.7947713028406724e-05\n",
      "\"Dangerous curve to the right\" was classified as:\n",
      "\t\t0:\t\"Dangerous curve to the right\" with 0.9991483688354492\n",
      "\t\t1:\t\"Slippery road\" with 0.0005740633932873607\n",
      "\t\t2:\t\"End of no passing\" with 0.00020590951316989958\n",
      "\t\t3:\t\"Road narrows on the right\" with 4.89989724883344e-05\n",
      "\t\t4:\t\"Children crossing\" with 1.844721737143118e-05\n"
     ]
    }
   ],
   "source": [
    "import csv\n",
    "\n",
    "with open(\"signnames.csv\", 'r') as f:\n",
    "    reader = csv.reader(f)\n",
    "    sign_names = list(reader)\n",
    "    sign_names = np.asarray(sign_names[1:])\n",
    "    \n",
    "def get_sign_name(label):\n",
    "    return sign_names[label, :][1]\n",
    "\n",
    "with tf.Session() as sess:\n",
    "    top3_pred = sess.run(tf.nn.top_k(tf.constant(s_max), k=5))\n",
    "\n",
    "for ground_truth, predition, probability in zip(new_traffic_signs_labels, top3_pred[1], top3_pred[0]):\n",
    "    print(\"\\\"{}\\\" was classified as:\".format(get_sign_name(ground_truth)))\n",
    "    for ind in range(len(predition)):\n",
    "        print(\"\\t\\t{}:\\t\\\"{}\\\" with {}\".format(ind, get_sign_name(predition[ind]), probability[ind]))"
   ]
  },
  {
   "cell_type": "markdown",
   "metadata": {},
   "source": [
    "> **Note**: Once you have completed all of the code implementations and successfully answered each question above, you may finalize your work by exporting the iPython Notebook as an HTML document. You can do this by using the menu above and navigating to  \\n\",\n",
    "    \"**File -> Download as -> HTML (.html)**. Include the finished document along with this notebook as your submission."
   ]
  },
  {
   "cell_type": "code",
   "execution_count": 13,
   "metadata": {
    "collapsed": true
   },
   "outputs": [],
   "source": [
    "### The file was stored and add to the repository as Traffic_Sign_Classifier.html."
   ]
  }
 ],
 "metadata": {
  "anaconda-cloud": {},
  "kernelspec": {
   "display_name": "Python [default]",
   "language": "python",
   "name": "python3"
  },
  "language_info": {
   "codemirror_mode": {
    "name": "ipython",
    "version": 3
   },
   "file_extension": ".py",
   "mimetype": "text/x-python",
   "name": "python",
   "nbconvert_exporter": "python",
   "pygments_lexer": "ipython3",
   "version": "3.5.2"
  }
 },
 "nbformat": 4,
 "nbformat_minor": 1
}
